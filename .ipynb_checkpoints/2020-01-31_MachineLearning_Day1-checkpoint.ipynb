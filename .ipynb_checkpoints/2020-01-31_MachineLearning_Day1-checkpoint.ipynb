{
 "cells": [
  {
   "cell_type": "markdown",
   "metadata": {},
   "source": [
    "## Day 1\n",
    "10am - 1pm Numpy & Pands overview, visualization\n",
    "\n",
    "1pm - 2pm 1Hr: Lunch\n",
    "\n",
    "2pm - 3pm 1Hr: Machine Learning intro (basics, Scikit-Learn)\n",
    "\n",
    "3pm - 5pm 2Hr: First Regression model (Linear Regression, model interpretation\n",
    "    \n",
    "    "
   ]
  },
  {
   "cell_type": "markdown",
   "metadata": {},
   "source": [
    "## Day 2\n",
    "90 min Cross validion (training and test sets, KFold)\n",
    "\n",
    "90 min regularization (L1, L2 norms, weight decay)\n",
    "\n",
    "1 hr lunch\n",
    "\n",
    "1hr classification (intro, categorical variables)\n",
    "\n",
    "1hr decision trees / ensemble models (random forests)\n",
    "\n",
    "1hr Potpourri (ML ecosystem, different tools, models)"
   ]
  },
  {
   "cell_type": "code",
   "execution_count": null,
   "metadata": {},
   "outputs": [],
   "source": []
  }
 ],
 "metadata": {
  "kernelspec": {
   "display_name": "Python 3",
   "language": "python",
   "name": "python3"
  },
  "language_info": {
   "codemirror_mode": {
    "name": "ipython",
    "version": 3
   },
   "file_extension": ".py",
   "mimetype": "text/x-python",
   "name": "python",
   "nbconvert_exporter": "python",
   "pygments_lexer": "ipython3",
   "version": "3.7.3"
  }
 },
 "nbformat": 4,
 "nbformat_minor": 4
}
