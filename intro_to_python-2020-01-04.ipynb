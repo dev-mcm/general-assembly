{
 "cells": [
  {
   "cell_type": "code",
   "execution_count": 2,
   "metadata": {},
   "outputs": [
    {
     "name": "stdout",
     "output_type": "stream",
     "text": [
      "Hello\n"
     ]
    }
   ],
   "source": [
    "print(\"Hello\")"
   ]
  },
  {
   "cell_type": "markdown",
   "metadata": {},
   "source": [
    "Markdown cells allow for text formatting if you want to add notes or some explanation for what you're doing\n",
    "### Markdown Shortcuts\n",
    "- Run Cell: Shift + Enter\n",
    "- New Cell: b\n",
    "- New Cell Above: A\n",
    "- Delete Cell: DD\n",
    "- Code Cell: Y\n",
    "- Markdown Cell: M\n",
    "- Editing Mode: Enter\n",
    "- Command Mode: Esc"
   ]
  },
  {
   "cell_type": "markdown",
   "metadata": {},
   "source": [
    "### Major Data Types\n",
    "##### individual data types\n",
    "- Integers/floats (aka numbers)\n",
    "- Strings (text)\n",
    "- Booleans (True/False)\n",
    "\n",
    "##### Containers\n",
    "- index based: lists, tubles, sets\n",
    "- Non-index based: Dictionaries\n",
    "\n",
    "##### Other\n",
    "- Functions\n",
    "- Classes"
   ]
  },
  {
   "cell_type": "markdown",
   "metadata": {},
   "source": [
    "### This is a heading\n",
    "\n",
    "this is regular text.\n",
    "- this is a bullet \n",
    "- another bullet"
   ]
  },
  {
   "cell_type": "code",
   "execution_count": 18,
   "metadata": {},
   "outputs": [
    {
     "data": {
      "text/plain": [
       "builtin_function_or_method"
      ]
     },
     "execution_count": 18,
     "metadata": {},
     "output_type": "execute_result"
    }
   ],
   "source": [
    "type(print)"
   ]
  },
  {
   "cell_type": "code",
   "execution_count": 10,
   "metadata": {},
   "outputs": [
    {
     "name": "stdout",
     "output_type": "stream",
     "text": [
      "pizza\n",
      "5\n",
      "35\n"
     ]
    }
   ],
   "source": [
    "print(\"pizza\")\n",
    "print(5)\n",
    "print(5*7)"
   ]
  },
  {
   "cell_type": "code",
   "execution_count": 35,
   "metadata": {},
   "outputs": [],
   "source": [
    "hi = 45"
   ]
  },
  {
   "cell_type": "code",
   "execution_count": 49,
   "metadata": {},
   "outputs": [
    {
     "name": "stdout",
     "output_type": "stream",
     "text": [
      "45\n"
     ]
    }
   ],
   "source": [
    "print(hi)"
   ]
  },
  {
   "cell_type": "code",
   "execution_count": 37,
   "metadata": {},
   "outputs": [
    {
     "data": {
      "text/plain": [
       "int"
      ]
     },
     "execution_count": 37,
     "metadata": {},
     "output_type": "execute_result"
    }
   ],
   "source": [
    "type(hi)"
   ]
  },
  {
   "cell_type": "code",
   "execution_count": 38,
   "metadata": {},
   "outputs": [
    {
     "data": {
      "text/plain": [
       "True"
      ]
     },
     "execution_count": 38,
     "metadata": {},
     "output_type": "execute_result"
    }
   ],
   "source": [
    "hi is 45"
   ]
  },
  {
   "cell_type": "code",
   "execution_count": 79,
   "metadata": {},
   "outputs": [],
   "source": [
    "var = 'this is a string'"
   ]
  },
  {
   "cell_type": "code",
   "execution_count": 58,
   "metadata": {},
   "outputs": [
    {
     "name": "stdout",
     "output_type": "stream",
     "text": [
      "this is a string\n"
     ]
    }
   ],
   "source": [
    "print(var)"
   ]
  },
  {
   "cell_type": "code",
   "execution_count": 80,
   "metadata": {},
   "outputs": [
    {
     "data": {
      "text/plain": [
       "'THIS IS A STRING'"
      ]
     },
     "execution_count": 80,
     "metadata": {},
     "output_type": "execute_result"
    }
   ],
   "source": [
    "var.upper()"
   ]
  },
  {
   "cell_type": "code",
   "execution_count": 82,
   "metadata": {},
   "outputs": [
    {
     "name": "stdout",
     "output_type": "stream",
     "text": [
      "The Value of x: 23\n"
     ]
    }
   ],
   "source": [
    "x = 23\n",
    "y = 37\n",
    "python_string = 'string for exercise'\n",
    "print(f'The Value of x: {x}')"
   ]
  },
  {
   "cell_type": "code",
   "execution_count": 84,
   "metadata": {},
   "outputs": [
    {
     "name": "stdout",
     "output_type": "stream",
     "text": [
      "the Value of x: 23\n"
     ]
    }
   ],
   "source": [
    "print(f'the Value of x: {x}')"
   ]
  },
  {
   "cell_type": "code",
   "execution_count": 87,
   "metadata": {},
   "outputs": [
    {
     "data": {
      "text/plain": [
       "'string for exercise'"
      ]
     },
     "execution_count": 87,
     "metadata": {},
     "output_type": "execute_result"
    }
   ],
   "source": [
    "python_string.lower()\n"
   ]
  },
  {
   "cell_type": "code",
   "execution_count": 88,
   "metadata": {},
   "outputs": [
    {
     "data": {
      "text/plain": [
       "'STRING FOR EXERCISE'"
      ]
     },
     "execution_count": 88,
     "metadata": {},
     "output_type": "execute_result"
    }
   ],
   "source": [
    "python_string.upper()\n"
   ]
  },
  {
   "cell_type": "code",
   "execution_count": 89,
   "metadata": {},
   "outputs": [
    {
     "data": {
      "text/plain": [
       "'String for exercise'"
      ]
     },
     "execution_count": 89,
     "metadata": {},
     "output_type": "execute_result"
    }
   ],
   "source": [
    "python_string.capitalize()\n"
   ]
  },
  {
   "cell_type": "code",
   "execution_count": 90,
   "metadata": {},
   "outputs": [
    {
     "data": {
      "text/plain": [
       "'String For Exercise'"
      ]
     },
     "execution_count": 90,
     "metadata": {},
     "output_type": "execute_result"
    }
   ],
   "source": [
    "python_string.title()"
   ]
  },
  {
   "cell_type": "code",
   "execution_count": 91,
   "metadata": {},
   "outputs": [
    {
     "name": "stdout",
     "output_type": "stream",
     "text": [
      "string for exercise\n"
     ]
    }
   ],
   "source": [
    "print(python_string)"
   ]
  },
  {
   "cell_type": "code",
   "execution_count": 110,
   "metadata": {},
   "outputs": [
    {
     "name": "stdout",
     "output_type": "stream",
     "text": [
      "x%y = 2\n"
     ]
    }
   ],
   "source": [
    "print(f'x%y = {x%y}')"
   ]
  },
  {
   "cell_type": "code",
   "execution_count": 109,
   "metadata": {},
   "outputs": [
    {
     "name": "stdout",
     "output_type": "stream",
     "text": [
      "x divided by y = 0.05555555555555555\n"
     ]
    }
   ],
   "source": [
    "print(f'x divided by y = {x/y}')"
   ]
  },
  {
   "cell_type": "code",
   "execution_count": 111,
   "metadata": {},
   "outputs": [
    {
     "name": "stdout",
     "output_type": "stream",
     "text": [
      "x//y = 0\n"
     ]
    }
   ],
   "source": [
    "print(f'x//y = {x//y}')"
   ]
  },
  {
   "cell_type": "code",
   "execution_count": 116,
   "metadata": {},
   "outputs": [],
   "source": [
    "var = var.upper()"
   ]
  },
  {
   "cell_type": "code",
   "execution_count": 117,
   "metadata": {},
   "outputs": [
    {
     "data": {
      "text/plain": [
       "'THIS IS A STRING'"
      ]
     },
     "execution_count": 117,
     "metadata": {},
     "output_type": "execute_result"
    }
   ],
   "source": [
    "var"
   ]
  },
  {
   "cell_type": "code",
   "execution_count": 10,
   "metadata": {},
   "outputs": [],
   "source": [
    "import pandas as pd"
   ]
  },
  {
   "cell_type": "code",
   "execution_count": 11,
   "metadata": {},
   "outputs": [],
   "source": [
    "df = pd.read_csv('titanic.csv')"
   ]
  },
  {
   "cell_type": "code",
   "execution_count": 128,
   "metadata": {},
   "outputs": [
    {
     "data": {
      "text/plain": [
       "pandas.core.frame.DataFrame"
      ]
     },
     "execution_count": 128,
     "metadata": {},
     "output_type": "execute_result"
    }
   ],
   "source": [
    "type(df)"
   ]
  },
  {
   "cell_type": "code",
   "execution_count": 132,
   "metadata": {},
   "outputs": [
    {
     "data": {
      "text/html": [
       "<div>\n",
       "<style scoped>\n",
       "    .dataframe tbody tr th:only-of-type {\n",
       "        vertical-align: middle;\n",
       "    }\n",
       "\n",
       "    .dataframe tbody tr th {\n",
       "        vertical-align: top;\n",
       "    }\n",
       "\n",
       "    .dataframe thead th {\n",
       "        text-align: right;\n",
       "    }\n",
       "</style>\n",
       "<table border=\"1\" class=\"dataframe\">\n",
       "  <thead>\n",
       "    <tr style=\"text-align: right;\">\n",
       "      <th></th>\n",
       "      <th>PassengerId</th>\n",
       "      <th>Survived</th>\n",
       "      <th>Pclass</th>\n",
       "      <th>Name</th>\n",
       "      <th>Sex</th>\n",
       "      <th>Age</th>\n",
       "      <th>SibSp</th>\n",
       "      <th>Parch</th>\n",
       "      <th>Ticket</th>\n",
       "      <th>Fare</th>\n",
       "      <th>Cabin</th>\n",
       "      <th>Embarked</th>\n",
       "    </tr>\n",
       "  </thead>\n",
       "  <tbody>\n",
       "    <tr>\n",
       "      <td>0</td>\n",
       "      <td>1</td>\n",
       "      <td>0</td>\n",
       "      <td>3</td>\n",
       "      <td>Braund, Mr. Owen Harris</td>\n",
       "      <td>male</td>\n",
       "      <td>22.0</td>\n",
       "      <td>1</td>\n",
       "      <td>0</td>\n",
       "      <td>A/5 21171</td>\n",
       "      <td>7.2500</td>\n",
       "      <td>NaN</td>\n",
       "      <td>S</td>\n",
       "    </tr>\n",
       "    <tr>\n",
       "      <td>1</td>\n",
       "      <td>2</td>\n",
       "      <td>1</td>\n",
       "      <td>1</td>\n",
       "      <td>Cumings, Mrs. John Bradley (Florence Briggs Th...</td>\n",
       "      <td>female</td>\n",
       "      <td>38.0</td>\n",
       "      <td>1</td>\n",
       "      <td>0</td>\n",
       "      <td>PC 17599</td>\n",
       "      <td>71.2833</td>\n",
       "      <td>C85</td>\n",
       "      <td>C</td>\n",
       "    </tr>\n",
       "    <tr>\n",
       "      <td>2</td>\n",
       "      <td>3</td>\n",
       "      <td>1</td>\n",
       "      <td>3</td>\n",
       "      <td>Heikkinen, Miss. Laina</td>\n",
       "      <td>female</td>\n",
       "      <td>26.0</td>\n",
       "      <td>0</td>\n",
       "      <td>0</td>\n",
       "      <td>STON/O2. 3101282</td>\n",
       "      <td>7.9250</td>\n",
       "      <td>NaN</td>\n",
       "      <td>S</td>\n",
       "    </tr>\n",
       "    <tr>\n",
       "      <td>3</td>\n",
       "      <td>4</td>\n",
       "      <td>1</td>\n",
       "      <td>1</td>\n",
       "      <td>Futrelle, Mrs. Jacques Heath (Lily May Peel)</td>\n",
       "      <td>female</td>\n",
       "      <td>35.0</td>\n",
       "      <td>1</td>\n",
       "      <td>0</td>\n",
       "      <td>113803</td>\n",
       "      <td>53.1000</td>\n",
       "      <td>C123</td>\n",
       "      <td>S</td>\n",
       "    </tr>\n",
       "    <tr>\n",
       "      <td>4</td>\n",
       "      <td>5</td>\n",
       "      <td>0</td>\n",
       "      <td>3</td>\n",
       "      <td>Allen, Mr. William Henry</td>\n",
       "      <td>male</td>\n",
       "      <td>35.0</td>\n",
       "      <td>0</td>\n",
       "      <td>0</td>\n",
       "      <td>373450</td>\n",
       "      <td>8.0500</td>\n",
       "      <td>NaN</td>\n",
       "      <td>S</td>\n",
       "    </tr>\n",
       "  </tbody>\n",
       "</table>\n",
       "</div>"
      ],
      "text/plain": [
       "   PassengerId  Survived  Pclass  \\\n",
       "0            1         0       3   \n",
       "1            2         1       1   \n",
       "2            3         1       3   \n",
       "3            4         1       1   \n",
       "4            5         0       3   \n",
       "\n",
       "                                                Name     Sex   Age  SibSp  \\\n",
       "0                            Braund, Mr. Owen Harris    male  22.0      1   \n",
       "1  Cumings, Mrs. John Bradley (Florence Briggs Th...  female  38.0      1   \n",
       "2                             Heikkinen, Miss. Laina  female  26.0      0   \n",
       "3       Futrelle, Mrs. Jacques Heath (Lily May Peel)  female  35.0      1   \n",
       "4                           Allen, Mr. William Henry    male  35.0      0   \n",
       "\n",
       "   Parch            Ticket     Fare Cabin Embarked  \n",
       "0      0         A/5 21171   7.2500   NaN        S  \n",
       "1      0          PC 17599  71.2833   C85        C  \n",
       "2      0  STON/O2. 3101282   7.9250   NaN        S  \n",
       "3      0            113803  53.1000  C123        S  \n",
       "4      0            373450   8.0500   NaN        S  "
      ]
     },
     "execution_count": 132,
     "metadata": {},
     "output_type": "execute_result"
    }
   ],
   "source": [
    "df.head()"
   ]
  },
  {
   "cell_type": "code",
   "execution_count": 133,
   "metadata": {},
   "outputs": [
    {
     "data": {
      "text/html": [
       "<div>\n",
       "<style scoped>\n",
       "    .dataframe tbody tr th:only-of-type {\n",
       "        vertical-align: middle;\n",
       "    }\n",
       "\n",
       "    .dataframe tbody tr th {\n",
       "        vertical-align: top;\n",
       "    }\n",
       "\n",
       "    .dataframe thead th {\n",
       "        text-align: right;\n",
       "    }\n",
       "</style>\n",
       "<table border=\"1\" class=\"dataframe\">\n",
       "  <thead>\n",
       "    <tr style=\"text-align: right;\">\n",
       "      <th></th>\n",
       "      <th>PassengerId</th>\n",
       "      <th>Survived</th>\n",
       "      <th>Pclass</th>\n",
       "      <th>Age</th>\n",
       "      <th>SibSp</th>\n",
       "      <th>Parch</th>\n",
       "      <th>Fare</th>\n",
       "    </tr>\n",
       "  </thead>\n",
       "  <tbody>\n",
       "    <tr>\n",
       "      <td>count</td>\n",
       "      <td>891.000000</td>\n",
       "      <td>891.000000</td>\n",
       "      <td>891.000000</td>\n",
       "      <td>714.000000</td>\n",
       "      <td>891.000000</td>\n",
       "      <td>891.000000</td>\n",
       "      <td>891.000000</td>\n",
       "    </tr>\n",
       "    <tr>\n",
       "      <td>mean</td>\n",
       "      <td>446.000000</td>\n",
       "      <td>0.383838</td>\n",
       "      <td>2.308642</td>\n",
       "      <td>29.699118</td>\n",
       "      <td>0.523008</td>\n",
       "      <td>0.381594</td>\n",
       "      <td>32.204208</td>\n",
       "    </tr>\n",
       "    <tr>\n",
       "      <td>std</td>\n",
       "      <td>257.353842</td>\n",
       "      <td>0.486592</td>\n",
       "      <td>0.836071</td>\n",
       "      <td>14.526497</td>\n",
       "      <td>1.102743</td>\n",
       "      <td>0.806057</td>\n",
       "      <td>49.693429</td>\n",
       "    </tr>\n",
       "    <tr>\n",
       "      <td>min</td>\n",
       "      <td>1.000000</td>\n",
       "      <td>0.000000</td>\n",
       "      <td>1.000000</td>\n",
       "      <td>0.420000</td>\n",
       "      <td>0.000000</td>\n",
       "      <td>0.000000</td>\n",
       "      <td>0.000000</td>\n",
       "    </tr>\n",
       "    <tr>\n",
       "      <td>25%</td>\n",
       "      <td>223.500000</td>\n",
       "      <td>0.000000</td>\n",
       "      <td>2.000000</td>\n",
       "      <td>20.125000</td>\n",
       "      <td>0.000000</td>\n",
       "      <td>0.000000</td>\n",
       "      <td>7.910400</td>\n",
       "    </tr>\n",
       "    <tr>\n",
       "      <td>50%</td>\n",
       "      <td>446.000000</td>\n",
       "      <td>0.000000</td>\n",
       "      <td>3.000000</td>\n",
       "      <td>28.000000</td>\n",
       "      <td>0.000000</td>\n",
       "      <td>0.000000</td>\n",
       "      <td>14.454200</td>\n",
       "    </tr>\n",
       "    <tr>\n",
       "      <td>75%</td>\n",
       "      <td>668.500000</td>\n",
       "      <td>1.000000</td>\n",
       "      <td>3.000000</td>\n",
       "      <td>38.000000</td>\n",
       "      <td>1.000000</td>\n",
       "      <td>0.000000</td>\n",
       "      <td>31.000000</td>\n",
       "    </tr>\n",
       "    <tr>\n",
       "      <td>max</td>\n",
       "      <td>891.000000</td>\n",
       "      <td>1.000000</td>\n",
       "      <td>3.000000</td>\n",
       "      <td>80.000000</td>\n",
       "      <td>8.000000</td>\n",
       "      <td>6.000000</td>\n",
       "      <td>512.329200</td>\n",
       "    </tr>\n",
       "  </tbody>\n",
       "</table>\n",
       "</div>"
      ],
      "text/plain": [
       "       PassengerId    Survived      Pclass         Age       SibSp  \\\n",
       "count   891.000000  891.000000  891.000000  714.000000  891.000000   \n",
       "mean    446.000000    0.383838    2.308642   29.699118    0.523008   \n",
       "std     257.353842    0.486592    0.836071   14.526497    1.102743   \n",
       "min       1.000000    0.000000    1.000000    0.420000    0.000000   \n",
       "25%     223.500000    0.000000    2.000000   20.125000    0.000000   \n",
       "50%     446.000000    0.000000    3.000000   28.000000    0.000000   \n",
       "75%     668.500000    1.000000    3.000000   38.000000    1.000000   \n",
       "max     891.000000    1.000000    3.000000   80.000000    8.000000   \n",
       "\n",
       "            Parch        Fare  \n",
       "count  891.000000  891.000000  \n",
       "mean     0.381594   32.204208  \n",
       "std      0.806057   49.693429  \n",
       "min      0.000000    0.000000  \n",
       "25%      0.000000    7.910400  \n",
       "50%      0.000000   14.454200  \n",
       "75%      0.000000   31.000000  \n",
       "max      6.000000  512.329200  "
      ]
     },
     "execution_count": 133,
     "metadata": {},
     "output_type": "execute_result"
    }
   ],
   "source": [
    "df.describe()"
   ]
  },
  {
   "cell_type": "code",
   "execution_count": 134,
   "metadata": {},
   "outputs": [
    {
     "name": "stdout",
     "output_type": "stream",
     "text": [
      "<class 'pandas.core.frame.DataFrame'>\n",
      "RangeIndex: 891 entries, 0 to 890\n",
      "Data columns (total 12 columns):\n",
      "PassengerId    891 non-null int64\n",
      "Survived       891 non-null int64\n",
      "Pclass         891 non-null int64\n",
      "Name           891 non-null object\n",
      "Sex            891 non-null object\n",
      "Age            714 non-null float64\n",
      "SibSp          891 non-null int64\n",
      "Parch          891 non-null int64\n",
      "Ticket         891 non-null object\n",
      "Fare           891 non-null float64\n",
      "Cabin          204 non-null object\n",
      "Embarked       889 non-null object\n",
      "dtypes: float64(2), int64(5), object(5)\n",
      "memory usage: 83.7+ KB\n"
     ]
    }
   ],
   "source": [
    "df.info()"
   ]
  },
  {
   "cell_type": "code",
   "execution_count": 135,
   "metadata": {},
   "outputs": [
    {
     "data": {
      "text/plain": [
       "PassengerId    446.000000\n",
       "Survived         0.383838\n",
       "Pclass           2.308642\n",
       "Age             29.699118\n",
       "SibSp            0.523008\n",
       "Parch            0.381594\n",
       "Fare            32.204208\n",
       "dtype: float64"
      ]
     },
     "execution_count": 135,
     "metadata": {},
     "output_type": "execute_result"
    }
   ],
   "source": [
    "df.mean()"
   ]
  },
  {
   "cell_type": "code",
   "execution_count": 139,
   "metadata": {},
   "outputs": [
    {
     "data": {
      "text/html": [
       "<div>\n",
       "<style scoped>\n",
       "    .dataframe tbody tr th:only-of-type {\n",
       "        vertical-align: middle;\n",
       "    }\n",
       "\n",
       "    .dataframe tbody tr th {\n",
       "        vertical-align: top;\n",
       "    }\n",
       "\n",
       "    .dataframe thead th {\n",
       "        text-align: right;\n",
       "    }\n",
       "</style>\n",
       "<table border=\"1\" class=\"dataframe\">\n",
       "  <thead>\n",
       "    <tr style=\"text-align: right;\">\n",
       "      <th></th>\n",
       "      <th>PassengerId</th>\n",
       "      <th>Survived</th>\n",
       "      <th>Pclass</th>\n",
       "      <th>Name</th>\n",
       "      <th>Sex</th>\n",
       "      <th>Age</th>\n",
       "      <th>SibSp</th>\n",
       "      <th>Parch</th>\n",
       "      <th>Ticket</th>\n",
       "      <th>Fare</th>\n",
       "      <th>Cabin</th>\n",
       "      <th>Embarked</th>\n",
       "    </tr>\n",
       "  </thead>\n",
       "  <tbody>\n",
       "    <tr>\n",
       "      <td>0</td>\n",
       "      <td>False</td>\n",
       "      <td>False</td>\n",
       "      <td>False</td>\n",
       "      <td>False</td>\n",
       "      <td>False</td>\n",
       "      <td>False</td>\n",
       "      <td>False</td>\n",
       "      <td>False</td>\n",
       "      <td>False</td>\n",
       "      <td>False</td>\n",
       "      <td>True</td>\n",
       "      <td>False</td>\n",
       "    </tr>\n",
       "    <tr>\n",
       "      <td>1</td>\n",
       "      <td>False</td>\n",
       "      <td>False</td>\n",
       "      <td>False</td>\n",
       "      <td>False</td>\n",
       "      <td>False</td>\n",
       "      <td>False</td>\n",
       "      <td>False</td>\n",
       "      <td>False</td>\n",
       "      <td>False</td>\n",
       "      <td>False</td>\n",
       "      <td>False</td>\n",
       "      <td>False</td>\n",
       "    </tr>\n",
       "    <tr>\n",
       "      <td>2</td>\n",
       "      <td>False</td>\n",
       "      <td>False</td>\n",
       "      <td>False</td>\n",
       "      <td>False</td>\n",
       "      <td>False</td>\n",
       "      <td>False</td>\n",
       "      <td>False</td>\n",
       "      <td>False</td>\n",
       "      <td>False</td>\n",
       "      <td>False</td>\n",
       "      <td>True</td>\n",
       "      <td>False</td>\n",
       "    </tr>\n",
       "    <tr>\n",
       "      <td>3</td>\n",
       "      <td>False</td>\n",
       "      <td>False</td>\n",
       "      <td>False</td>\n",
       "      <td>False</td>\n",
       "      <td>False</td>\n",
       "      <td>False</td>\n",
       "      <td>False</td>\n",
       "      <td>False</td>\n",
       "      <td>False</td>\n",
       "      <td>False</td>\n",
       "      <td>False</td>\n",
       "      <td>False</td>\n",
       "    </tr>\n",
       "    <tr>\n",
       "      <td>4</td>\n",
       "      <td>False</td>\n",
       "      <td>False</td>\n",
       "      <td>False</td>\n",
       "      <td>False</td>\n",
       "      <td>False</td>\n",
       "      <td>False</td>\n",
       "      <td>False</td>\n",
       "      <td>False</td>\n",
       "      <td>False</td>\n",
       "      <td>False</td>\n",
       "      <td>True</td>\n",
       "      <td>False</td>\n",
       "    </tr>\n",
       "    <tr>\n",
       "      <td>...</td>\n",
       "      <td>...</td>\n",
       "      <td>...</td>\n",
       "      <td>...</td>\n",
       "      <td>...</td>\n",
       "      <td>...</td>\n",
       "      <td>...</td>\n",
       "      <td>...</td>\n",
       "      <td>...</td>\n",
       "      <td>...</td>\n",
       "      <td>...</td>\n",
       "      <td>...</td>\n",
       "      <td>...</td>\n",
       "    </tr>\n",
       "    <tr>\n",
       "      <td>886</td>\n",
       "      <td>False</td>\n",
       "      <td>False</td>\n",
       "      <td>False</td>\n",
       "      <td>False</td>\n",
       "      <td>False</td>\n",
       "      <td>False</td>\n",
       "      <td>False</td>\n",
       "      <td>False</td>\n",
       "      <td>False</td>\n",
       "      <td>False</td>\n",
       "      <td>True</td>\n",
       "      <td>False</td>\n",
       "    </tr>\n",
       "    <tr>\n",
       "      <td>887</td>\n",
       "      <td>False</td>\n",
       "      <td>False</td>\n",
       "      <td>False</td>\n",
       "      <td>False</td>\n",
       "      <td>False</td>\n",
       "      <td>False</td>\n",
       "      <td>False</td>\n",
       "      <td>False</td>\n",
       "      <td>False</td>\n",
       "      <td>False</td>\n",
       "      <td>False</td>\n",
       "      <td>False</td>\n",
       "    </tr>\n",
       "    <tr>\n",
       "      <td>888</td>\n",
       "      <td>False</td>\n",
       "      <td>False</td>\n",
       "      <td>False</td>\n",
       "      <td>False</td>\n",
       "      <td>False</td>\n",
       "      <td>True</td>\n",
       "      <td>False</td>\n",
       "      <td>False</td>\n",
       "      <td>False</td>\n",
       "      <td>False</td>\n",
       "      <td>True</td>\n",
       "      <td>False</td>\n",
       "    </tr>\n",
       "    <tr>\n",
       "      <td>889</td>\n",
       "      <td>False</td>\n",
       "      <td>False</td>\n",
       "      <td>False</td>\n",
       "      <td>False</td>\n",
       "      <td>False</td>\n",
       "      <td>False</td>\n",
       "      <td>False</td>\n",
       "      <td>False</td>\n",
       "      <td>False</td>\n",
       "      <td>False</td>\n",
       "      <td>False</td>\n",
       "      <td>False</td>\n",
       "    </tr>\n",
       "    <tr>\n",
       "      <td>890</td>\n",
       "      <td>False</td>\n",
       "      <td>False</td>\n",
       "      <td>False</td>\n",
       "      <td>False</td>\n",
       "      <td>False</td>\n",
       "      <td>False</td>\n",
       "      <td>False</td>\n",
       "      <td>False</td>\n",
       "      <td>False</td>\n",
       "      <td>False</td>\n",
       "      <td>True</td>\n",
       "      <td>False</td>\n",
       "    </tr>\n",
       "  </tbody>\n",
       "</table>\n",
       "<p>891 rows × 12 columns</p>\n",
       "</div>"
      ],
      "text/plain": [
       "     PassengerId  Survived  Pclass   Name    Sex    Age  SibSp  Parch  Ticket  \\\n",
       "0          False     False   False  False  False  False  False  False   False   \n",
       "1          False     False   False  False  False  False  False  False   False   \n",
       "2          False     False   False  False  False  False  False  False   False   \n",
       "3          False     False   False  False  False  False  False  False   False   \n",
       "4          False     False   False  False  False  False  False  False   False   \n",
       "..           ...       ...     ...    ...    ...    ...    ...    ...     ...   \n",
       "886        False     False   False  False  False  False  False  False   False   \n",
       "887        False     False   False  False  False  False  False  False   False   \n",
       "888        False     False   False  False  False   True  False  False   False   \n",
       "889        False     False   False  False  False  False  False  False   False   \n",
       "890        False     False   False  False  False  False  False  False   False   \n",
       "\n",
       "      Fare  Cabin  Embarked  \n",
       "0    False   True     False  \n",
       "1    False  False     False  \n",
       "2    False   True     False  \n",
       "3    False  False     False  \n",
       "4    False   True     False  \n",
       "..     ...    ...       ...  \n",
       "886  False   True     False  \n",
       "887  False  False     False  \n",
       "888  False   True     False  \n",
       "889  False  False     False  \n",
       "890  False   True     False  \n",
       "\n",
       "[891 rows x 12 columns]"
      ]
     },
     "execution_count": 139,
     "metadata": {},
     "output_type": "execute_result"
    }
   ],
   "source": [
    "df.isnull()"
   ]
  },
  {
   "cell_type": "code",
   "execution_count": 143,
   "metadata": {},
   "outputs": [
    {
     "data": {
      "text/plain": [
       "PassengerId      0\n",
       "Survived         0\n",
       "Pclass           0\n",
       "Name             0\n",
       "Sex              0\n",
       "Age            177\n",
       "SibSp            0\n",
       "Parch            0\n",
       "Ticket           0\n",
       "Fare             0\n",
       "Cabin          687\n",
       "Embarked         2\n",
       "dtype: int64"
      ]
     },
     "execution_count": 143,
     "metadata": {},
     "output_type": "execute_result"
    }
   ],
   "source": [
    "df.isnull().sum()"
   ]
  },
  {
   "cell_type": "code",
   "execution_count": 145,
   "metadata": {},
   "outputs": [
    {
     "data": {
      "text/plain": [
       "PassengerId    891\n",
       "Survived       891\n",
       "Pclass         891\n",
       "Name           891\n",
       "Sex            891\n",
       "Age            714\n",
       "SibSp          891\n",
       "Parch          891\n",
       "Ticket         891\n",
       "Fare           891\n",
       "Cabin          204\n",
       "Embarked       889\n",
       "dtype: int64"
      ]
     },
     "execution_count": 145,
     "metadata": {},
     "output_type": "execute_result"
    }
   ],
   "source": [
    "df.count()"
   ]
  },
  {
   "cell_type": "code",
   "execution_count": 150,
   "metadata": {},
   "outputs": [
    {
     "data": {
      "text/plain": [
       "PassengerId    0.000000\n",
       "Survived       0.000000\n",
       "Pclass         0.000000\n",
       "Name           0.000000\n",
       "Sex            0.000000\n",
       "Age            0.198653\n",
       "SibSp          0.000000\n",
       "Parch          0.000000\n",
       "Ticket         0.000000\n",
       "Fare           0.000000\n",
       "Cabin          0.771044\n",
       "Embarked       0.002245\n",
       "dtype: float64"
      ]
     },
     "execution_count": 150,
     "metadata": {},
     "output_type": "execute_result"
    }
   ],
   "source": [
    "df.isnull().sum()/891"
   ]
  },
  {
   "cell_type": "markdown",
   "metadata": {},
   "source": [
    "### finding outliers\n",
    "get all numerical columns\n",
    "\"demean\" them by subtracting the mean from each column, then dividing by the standard deviation (so the standard deviation is now equal to 1).\n",
    "Then find which columns are more than 2 standard deviations away from the center"
   ]
  },
  {
   "cell_type": "code",
   "execution_count": 151,
   "metadata": {
    "scrolled": true
   },
   "outputs": [
    {
     "data": {
      "text/html": [
       "<div>\n",
       "<style scoped>\n",
       "    .dataframe tbody tr th:only-of-type {\n",
       "        vertical-align: middle;\n",
       "    }\n",
       "\n",
       "    .dataframe tbody tr th {\n",
       "        vertical-align: top;\n",
       "    }\n",
       "\n",
       "    .dataframe thead th {\n",
       "        text-align: right;\n",
       "    }\n",
       "</style>\n",
       "<table border=\"1\" class=\"dataframe\">\n",
       "  <thead>\n",
       "    <tr style=\"text-align: right;\">\n",
       "      <th></th>\n",
       "      <th>PassengerId</th>\n",
       "      <th>Survived</th>\n",
       "      <th>Pclass</th>\n",
       "      <th>Age</th>\n",
       "      <th>SibSp</th>\n",
       "      <th>Parch</th>\n",
       "      <th>Fare</th>\n",
       "    </tr>\n",
       "  </thead>\n",
       "  <tbody>\n",
       "    <tr>\n",
       "      <td>0</td>\n",
       "      <td>1</td>\n",
       "      <td>0</td>\n",
       "      <td>3</td>\n",
       "      <td>22.0</td>\n",
       "      <td>1</td>\n",
       "      <td>0</td>\n",
       "      <td>7.2500</td>\n",
       "    </tr>\n",
       "    <tr>\n",
       "      <td>1</td>\n",
       "      <td>2</td>\n",
       "      <td>1</td>\n",
       "      <td>1</td>\n",
       "      <td>38.0</td>\n",
       "      <td>1</td>\n",
       "      <td>0</td>\n",
       "      <td>71.2833</td>\n",
       "    </tr>\n",
       "    <tr>\n",
       "      <td>2</td>\n",
       "      <td>3</td>\n",
       "      <td>1</td>\n",
       "      <td>3</td>\n",
       "      <td>26.0</td>\n",
       "      <td>0</td>\n",
       "      <td>0</td>\n",
       "      <td>7.9250</td>\n",
       "    </tr>\n",
       "    <tr>\n",
       "      <td>3</td>\n",
       "      <td>4</td>\n",
       "      <td>1</td>\n",
       "      <td>1</td>\n",
       "      <td>35.0</td>\n",
       "      <td>1</td>\n",
       "      <td>0</td>\n",
       "      <td>53.1000</td>\n",
       "    </tr>\n",
       "    <tr>\n",
       "      <td>4</td>\n",
       "      <td>5</td>\n",
       "      <td>0</td>\n",
       "      <td>3</td>\n",
       "      <td>35.0</td>\n",
       "      <td>0</td>\n",
       "      <td>0</td>\n",
       "      <td>8.0500</td>\n",
       "    </tr>\n",
       "    <tr>\n",
       "      <td>...</td>\n",
       "      <td>...</td>\n",
       "      <td>...</td>\n",
       "      <td>...</td>\n",
       "      <td>...</td>\n",
       "      <td>...</td>\n",
       "      <td>...</td>\n",
       "      <td>...</td>\n",
       "    </tr>\n",
       "    <tr>\n",
       "      <td>886</td>\n",
       "      <td>887</td>\n",
       "      <td>0</td>\n",
       "      <td>2</td>\n",
       "      <td>27.0</td>\n",
       "      <td>0</td>\n",
       "      <td>0</td>\n",
       "      <td>13.0000</td>\n",
       "    </tr>\n",
       "    <tr>\n",
       "      <td>887</td>\n",
       "      <td>888</td>\n",
       "      <td>1</td>\n",
       "      <td>1</td>\n",
       "      <td>19.0</td>\n",
       "      <td>0</td>\n",
       "      <td>0</td>\n",
       "      <td>30.0000</td>\n",
       "    </tr>\n",
       "    <tr>\n",
       "      <td>888</td>\n",
       "      <td>889</td>\n",
       "      <td>0</td>\n",
       "      <td>3</td>\n",
       "      <td>NaN</td>\n",
       "      <td>1</td>\n",
       "      <td>2</td>\n",
       "      <td>23.4500</td>\n",
       "    </tr>\n",
       "    <tr>\n",
       "      <td>889</td>\n",
       "      <td>890</td>\n",
       "      <td>1</td>\n",
       "      <td>1</td>\n",
       "      <td>26.0</td>\n",
       "      <td>0</td>\n",
       "      <td>0</td>\n",
       "      <td>30.0000</td>\n",
       "    </tr>\n",
       "    <tr>\n",
       "      <td>890</td>\n",
       "      <td>891</td>\n",
       "      <td>0</td>\n",
       "      <td>3</td>\n",
       "      <td>32.0</td>\n",
       "      <td>0</td>\n",
       "      <td>0</td>\n",
       "      <td>7.7500</td>\n",
       "    </tr>\n",
       "  </tbody>\n",
       "</table>\n",
       "<p>891 rows × 7 columns</p>\n",
       "</div>"
      ],
      "text/plain": [
       "     PassengerId  Survived  Pclass   Age  SibSp  Parch     Fare\n",
       "0              1         0       3  22.0      1      0   7.2500\n",
       "1              2         1       1  38.0      1      0  71.2833\n",
       "2              3         1       3  26.0      0      0   7.9250\n",
       "3              4         1       1  35.0      1      0  53.1000\n",
       "4              5         0       3  35.0      0      0   8.0500\n",
       "..           ...       ...     ...   ...    ...    ...      ...\n",
       "886          887         0       2  27.0      0      0  13.0000\n",
       "887          888         1       1  19.0      0      0  30.0000\n",
       "888          889         0       3   NaN      1      2  23.4500\n",
       "889          890         1       1  26.0      0      0  30.0000\n",
       "890          891         0       3  32.0      0      0   7.7500\n",
       "\n",
       "[891 rows x 7 columns]"
      ]
     },
     "execution_count": 151,
     "metadata": {},
     "output_type": "execute_result"
    }
   ],
   "source": [
    "import numpy as np\n",
    "df.select_dtypes(include=np.number)"
   ]
  },
  {
   "cell_type": "code",
   "execution_count": 152,
   "metadata": {},
   "outputs": [],
   "source": [
    "num_df = df.select_dtypes(include=np.number)"
   ]
  },
  {
   "cell_type": "code",
   "execution_count": 157,
   "metadata": {},
   "outputs": [],
   "source": [
    "num_df_std = (num_df - num_df.mean()) / num_df.std()"
   ]
  },
  {
   "cell_type": "code",
   "execution_count": 158,
   "metadata": {},
   "outputs": [
    {
     "data": {
      "text/html": [
       "<div>\n",
       "<style scoped>\n",
       "    .dataframe tbody tr th:only-of-type {\n",
       "        vertical-align: middle;\n",
       "    }\n",
       "\n",
       "    .dataframe tbody tr th {\n",
       "        vertical-align: top;\n",
       "    }\n",
       "\n",
       "    .dataframe thead th {\n",
       "        text-align: right;\n",
       "    }\n",
       "</style>\n",
       "<table border=\"1\" class=\"dataframe\">\n",
       "  <thead>\n",
       "    <tr style=\"text-align: right;\">\n",
       "      <th></th>\n",
       "      <th>PassengerId</th>\n",
       "      <th>Survived</th>\n",
       "      <th>Pclass</th>\n",
       "      <th>Age</th>\n",
       "      <th>SibSp</th>\n",
       "      <th>Parch</th>\n",
       "      <th>Fare</th>\n",
       "    </tr>\n",
       "  </thead>\n",
       "  <tbody>\n",
       "    <tr>\n",
       "      <td>count</td>\n",
       "      <td>8.910000e+02</td>\n",
       "      <td>8.910000e+02</td>\n",
       "      <td>8.910000e+02</td>\n",
       "      <td>7.140000e+02</td>\n",
       "      <td>8.910000e+02</td>\n",
       "      <td>8.910000e+02</td>\n",
       "      <td>8.910000e+02</td>\n",
       "    </tr>\n",
       "    <tr>\n",
       "      <td>mean</td>\n",
       "      <td>-2.317637e-17</td>\n",
       "      <td>1.903951e-16</td>\n",
       "      <td>1.679664e-16</td>\n",
       "      <td>2.003921e-16</td>\n",
       "      <td>1.528893e-16</td>\n",
       "      <td>-3.638441e-17</td>\n",
       "      <td>7.437622e-16</td>\n",
       "    </tr>\n",
       "    <tr>\n",
       "      <td>std</td>\n",
       "      <td>1.000000e+00</td>\n",
       "      <td>1.000000e+00</td>\n",
       "      <td>1.000000e+00</td>\n",
       "      <td>1.000000e+00</td>\n",
       "      <td>1.000000e+00</td>\n",
       "      <td>1.000000e+00</td>\n",
       "      <td>1.000000e+00</td>\n",
       "    </tr>\n",
       "    <tr>\n",
       "      <td>min</td>\n",
       "      <td>-1.729137e+00</td>\n",
       "      <td>-7.888293e-01</td>\n",
       "      <td>-1.565228e+00</td>\n",
       "      <td>-2.015566e+00</td>\n",
       "      <td>-4.742788e-01</td>\n",
       "      <td>-4.734077e-01</td>\n",
       "      <td>-6.480577e-01</td>\n",
       "    </tr>\n",
       "    <tr>\n",
       "      <td>25%</td>\n",
       "      <td>-8.645684e-01</td>\n",
       "      <td>-7.888293e-01</td>\n",
       "      <td>-3.691575e-01</td>\n",
       "      <td>-6.590796e-01</td>\n",
       "      <td>-4.742788e-01</td>\n",
       "      <td>-4.734077e-01</td>\n",
       "      <td>-4.888737e-01</td>\n",
       "    </tr>\n",
       "    <tr>\n",
       "      <td>50%</td>\n",
       "      <td>0.000000e+00</td>\n",
       "      <td>-7.888293e-01</td>\n",
       "      <td>8.269128e-01</td>\n",
       "      <td>-1.169668e-01</td>\n",
       "      <td>-4.742788e-01</td>\n",
       "      <td>-4.734077e-01</td>\n",
       "      <td>-3.571902e-01</td>\n",
       "    </tr>\n",
       "    <tr>\n",
       "      <td>75%</td>\n",
       "      <td>8.645684e-01</td>\n",
       "      <td>1.266279e+00</td>\n",
       "      <td>8.269128e-01</td>\n",
       "      <td>5.714304e-01</td>\n",
       "      <td>4.325504e-01</td>\n",
       "      <td>-4.734077e-01</td>\n",
       "      <td>-2.423274e-02</td>\n",
       "    </tr>\n",
       "    <tr>\n",
       "      <td>max</td>\n",
       "      <td>1.729137e+00</td>\n",
       "      <td>1.266279e+00</td>\n",
       "      <td>8.269128e-01</td>\n",
       "      <td>3.462699e+00</td>\n",
       "      <td>6.780355e+00</td>\n",
       "      <td>6.970233e+00</td>\n",
       "      <td>9.661740e+00</td>\n",
       "    </tr>\n",
       "  </tbody>\n",
       "</table>\n",
       "</div>"
      ],
      "text/plain": [
       "        PassengerId      Survived        Pclass           Age         SibSp  \\\n",
       "count  8.910000e+02  8.910000e+02  8.910000e+02  7.140000e+02  8.910000e+02   \n",
       "mean  -2.317637e-17  1.903951e-16  1.679664e-16  2.003921e-16  1.528893e-16   \n",
       "std    1.000000e+00  1.000000e+00  1.000000e+00  1.000000e+00  1.000000e+00   \n",
       "min   -1.729137e+00 -7.888293e-01 -1.565228e+00 -2.015566e+00 -4.742788e-01   \n",
       "25%   -8.645684e-01 -7.888293e-01 -3.691575e-01 -6.590796e-01 -4.742788e-01   \n",
       "50%    0.000000e+00 -7.888293e-01  8.269128e-01 -1.169668e-01 -4.742788e-01   \n",
       "75%    8.645684e-01  1.266279e+00  8.269128e-01  5.714304e-01  4.325504e-01   \n",
       "max    1.729137e+00  1.266279e+00  8.269128e-01  3.462699e+00  6.780355e+00   \n",
       "\n",
       "              Parch          Fare  \n",
       "count  8.910000e+02  8.910000e+02  \n",
       "mean  -3.638441e-17  7.437622e-16  \n",
       "std    1.000000e+00  1.000000e+00  \n",
       "min   -4.734077e-01 -6.480577e-01  \n",
       "25%   -4.734077e-01 -4.888737e-01  \n",
       "50%   -4.734077e-01 -3.571902e-01  \n",
       "75%   -4.734077e-01 -2.423274e-02  \n",
       "max    6.970233e+00  9.661740e+00  "
      ]
     },
     "execution_count": 158,
     "metadata": {},
     "output_type": "execute_result"
    }
   ],
   "source": [
    "num_df_std.describe()"
   ]
  },
  {
   "cell_type": "code",
   "execution_count": 159,
   "metadata": {},
   "outputs": [
    {
     "data": {
      "text/html": [
       "<div>\n",
       "<style scoped>\n",
       "    .dataframe tbody tr th:only-of-type {\n",
       "        vertical-align: middle;\n",
       "    }\n",
       "\n",
       "    .dataframe tbody tr th {\n",
       "        vertical-align: top;\n",
       "    }\n",
       "\n",
       "    .dataframe thead th {\n",
       "        text-align: right;\n",
       "    }\n",
       "</style>\n",
       "<table border=\"1\" class=\"dataframe\">\n",
       "  <thead>\n",
       "    <tr style=\"text-align: right;\">\n",
       "      <th></th>\n",
       "      <th>PassengerId</th>\n",
       "      <th>Survived</th>\n",
       "      <th>Pclass</th>\n",
       "      <th>Age</th>\n",
       "      <th>SibSp</th>\n",
       "      <th>Parch</th>\n",
       "      <th>Fare</th>\n",
       "    </tr>\n",
       "  </thead>\n",
       "  <tbody>\n",
       "    <tr>\n",
       "      <td>0</td>\n",
       "      <td>False</td>\n",
       "      <td>False</td>\n",
       "      <td>False</td>\n",
       "      <td>False</td>\n",
       "      <td>False</td>\n",
       "      <td>False</td>\n",
       "      <td>False</td>\n",
       "    </tr>\n",
       "    <tr>\n",
       "      <td>1</td>\n",
       "      <td>False</td>\n",
       "      <td>False</td>\n",
       "      <td>False</td>\n",
       "      <td>False</td>\n",
       "      <td>False</td>\n",
       "      <td>False</td>\n",
       "      <td>False</td>\n",
       "    </tr>\n",
       "    <tr>\n",
       "      <td>2</td>\n",
       "      <td>False</td>\n",
       "      <td>False</td>\n",
       "      <td>False</td>\n",
       "      <td>False</td>\n",
       "      <td>False</td>\n",
       "      <td>False</td>\n",
       "      <td>False</td>\n",
       "    </tr>\n",
       "    <tr>\n",
       "      <td>3</td>\n",
       "      <td>False</td>\n",
       "      <td>False</td>\n",
       "      <td>False</td>\n",
       "      <td>False</td>\n",
       "      <td>False</td>\n",
       "      <td>False</td>\n",
       "      <td>False</td>\n",
       "    </tr>\n",
       "    <tr>\n",
       "      <td>4</td>\n",
       "      <td>False</td>\n",
       "      <td>False</td>\n",
       "      <td>False</td>\n",
       "      <td>False</td>\n",
       "      <td>False</td>\n",
       "      <td>False</td>\n",
       "      <td>False</td>\n",
       "    </tr>\n",
       "    <tr>\n",
       "      <td>...</td>\n",
       "      <td>...</td>\n",
       "      <td>...</td>\n",
       "      <td>...</td>\n",
       "      <td>...</td>\n",
       "      <td>...</td>\n",
       "      <td>...</td>\n",
       "      <td>...</td>\n",
       "    </tr>\n",
       "    <tr>\n",
       "      <td>886</td>\n",
       "      <td>False</td>\n",
       "      <td>False</td>\n",
       "      <td>False</td>\n",
       "      <td>False</td>\n",
       "      <td>False</td>\n",
       "      <td>False</td>\n",
       "      <td>False</td>\n",
       "    </tr>\n",
       "    <tr>\n",
       "      <td>887</td>\n",
       "      <td>False</td>\n",
       "      <td>False</td>\n",
       "      <td>False</td>\n",
       "      <td>False</td>\n",
       "      <td>False</td>\n",
       "      <td>False</td>\n",
       "      <td>False</td>\n",
       "    </tr>\n",
       "    <tr>\n",
       "      <td>888</td>\n",
       "      <td>False</td>\n",
       "      <td>False</td>\n",
       "      <td>False</td>\n",
       "      <td>False</td>\n",
       "      <td>False</td>\n",
       "      <td>True</td>\n",
       "      <td>False</td>\n",
       "    </tr>\n",
       "    <tr>\n",
       "      <td>889</td>\n",
       "      <td>False</td>\n",
       "      <td>False</td>\n",
       "      <td>False</td>\n",
       "      <td>False</td>\n",
       "      <td>False</td>\n",
       "      <td>False</td>\n",
       "      <td>False</td>\n",
       "    </tr>\n",
       "    <tr>\n",
       "      <td>890</td>\n",
       "      <td>False</td>\n",
       "      <td>False</td>\n",
       "      <td>False</td>\n",
       "      <td>False</td>\n",
       "      <td>False</td>\n",
       "      <td>False</td>\n",
       "      <td>False</td>\n",
       "    </tr>\n",
       "  </tbody>\n",
       "</table>\n",
       "<p>891 rows × 7 columns</p>\n",
       "</div>"
      ],
      "text/plain": [
       "     PassengerId  Survived  Pclass    Age  SibSp  Parch   Fare\n",
       "0          False     False   False  False  False  False  False\n",
       "1          False     False   False  False  False  False  False\n",
       "2          False     False   False  False  False  False  False\n",
       "3          False     False   False  False  False  False  False\n",
       "4          False     False   False  False  False  False  False\n",
       "..           ...       ...     ...    ...    ...    ...    ...\n",
       "886        False     False   False  False  False  False  False\n",
       "887        False     False   False  False  False  False  False\n",
       "888        False     False   False  False  False   True  False\n",
       "889        False     False   False  False  False  False  False\n",
       "890        False     False   False  False  False  False  False\n",
       "\n",
       "[891 rows x 7 columns]"
      ]
     },
     "execution_count": 159,
     "metadata": {},
     "output_type": "execute_result"
    }
   ],
   "source": [
    "num_df_std > 2"
   ]
  },
  {
   "cell_type": "code",
   "execution_count": 165,
   "metadata": {},
   "outputs": [
    {
     "data": {
      "text/html": [
       "<div>\n",
       "<style scoped>\n",
       "    .dataframe tbody tr th:only-of-type {\n",
       "        vertical-align: middle;\n",
       "    }\n",
       "\n",
       "    .dataframe tbody tr th {\n",
       "        vertical-align: top;\n",
       "    }\n",
       "\n",
       "    .dataframe thead th {\n",
       "        text-align: right;\n",
       "    }\n",
       "</style>\n",
       "<table border=\"1\" class=\"dataframe\">\n",
       "  <thead>\n",
       "    <tr style=\"text-align: right;\">\n",
       "      <th></th>\n",
       "      <th>Age</th>\n",
       "      <th>SibSp</th>\n",
       "      <th>Parch</th>\n",
       "      <th>Fare</th>\n",
       "    </tr>\n",
       "  </thead>\n",
       "  <tbody>\n",
       "    <tr>\n",
       "      <td>0</td>\n",
       "      <td>-0.530005</td>\n",
       "      <td>0.432550</td>\n",
       "      <td>-0.473408</td>\n",
       "      <td>-0.502163</td>\n",
       "    </tr>\n",
       "    <tr>\n",
       "      <td>1</td>\n",
       "      <td>0.571430</td>\n",
       "      <td>0.432550</td>\n",
       "      <td>-0.473408</td>\n",
       "      <td>0.786404</td>\n",
       "    </tr>\n",
       "    <tr>\n",
       "      <td>2</td>\n",
       "      <td>-0.254646</td>\n",
       "      <td>-0.474279</td>\n",
       "      <td>-0.473408</td>\n",
       "      <td>-0.488580</td>\n",
       "    </tr>\n",
       "    <tr>\n",
       "      <td>3</td>\n",
       "      <td>0.364911</td>\n",
       "      <td>0.432550</td>\n",
       "      <td>-0.473408</td>\n",
       "      <td>0.420494</td>\n",
       "    </tr>\n",
       "    <tr>\n",
       "      <td>4</td>\n",
       "      <td>0.364911</td>\n",
       "      <td>-0.474279</td>\n",
       "      <td>-0.473408</td>\n",
       "      <td>-0.486064</td>\n",
       "    </tr>\n",
       "    <tr>\n",
       "      <td>...</td>\n",
       "      <td>...</td>\n",
       "      <td>...</td>\n",
       "      <td>...</td>\n",
       "      <td>...</td>\n",
       "    </tr>\n",
       "    <tr>\n",
       "      <td>886</td>\n",
       "      <td>-0.185807</td>\n",
       "      <td>-0.474279</td>\n",
       "      <td>-0.473408</td>\n",
       "      <td>-0.386454</td>\n",
       "    </tr>\n",
       "    <tr>\n",
       "      <td>887</td>\n",
       "      <td>-0.736524</td>\n",
       "      <td>-0.474279</td>\n",
       "      <td>-0.473408</td>\n",
       "      <td>-0.044356</td>\n",
       "    </tr>\n",
       "    <tr>\n",
       "      <td>888</td>\n",
       "      <td>NaN</td>\n",
       "      <td>0.432550</td>\n",
       "      <td>2.007806</td>\n",
       "      <td>-0.176164</td>\n",
       "    </tr>\n",
       "    <tr>\n",
       "      <td>889</td>\n",
       "      <td>-0.254646</td>\n",
       "      <td>-0.474279</td>\n",
       "      <td>-0.473408</td>\n",
       "      <td>-0.044356</td>\n",
       "    </tr>\n",
       "    <tr>\n",
       "      <td>890</td>\n",
       "      <td>0.158392</td>\n",
       "      <td>-0.474279</td>\n",
       "      <td>-0.473408</td>\n",
       "      <td>-0.492101</td>\n",
       "    </tr>\n",
       "  </tbody>\n",
       "</table>\n",
       "<p>891 rows × 4 columns</p>\n",
       "</div>"
      ],
      "text/plain": [
       "          Age     SibSp     Parch      Fare\n",
       "0   -0.530005  0.432550 -0.473408 -0.502163\n",
       "1    0.571430  0.432550 -0.473408  0.786404\n",
       "2   -0.254646 -0.474279 -0.473408 -0.488580\n",
       "3    0.364911  0.432550 -0.473408  0.420494\n",
       "4    0.364911 -0.474279 -0.473408 -0.486064\n",
       "..        ...       ...       ...       ...\n",
       "886 -0.185807 -0.474279 -0.473408 -0.386454\n",
       "887 -0.736524 -0.474279 -0.473408 -0.044356\n",
       "888       NaN  0.432550  2.007806 -0.176164\n",
       "889 -0.254646 -0.474279 -0.473408 -0.044356\n",
       "890  0.158392 -0.474279 -0.473408 -0.492101\n",
       "\n",
       "[891 rows x 4 columns]"
      ]
     },
     "execution_count": 165,
     "metadata": {},
     "output_type": "execute_result"
    }
   ],
   "source": [
    "num_df_std.loc[:,(num_df_std > 2).sum() > 0]"
   ]
  },
  {
   "cell_type": "code",
   "execution_count": 168,
   "metadata": {},
   "outputs": [
    {
     "data": {
      "text/plain": [
       "0        4.892857\n",
       "1       16.326186\n",
       "2        5.846429\n",
       "3       13.585714\n",
       "4        7.292857\n",
       "          ...    \n",
       "886    132.714286\n",
       "887    134.142857\n",
       "888    153.075000\n",
       "889    135.428571\n",
       "890    133.392857\n",
       "Length: 891, dtype: float64"
      ]
     },
     "execution_count": 168,
     "metadata": {},
     "output_type": "execute_result"
    }
   ],
   "source": [
    "#axis = is the default and applies the method down columns, axis = 1 will apply it across rows\n",
    "df.mean(axis=1)"
   ]
  },
  {
   "cell_type": "code",
   "execution_count": 174,
   "metadata": {},
   "outputs": [
    {
     "data": {
      "text/plain": [
       "count    714.000000\n",
       "mean      29.699118\n",
       "std       14.526497\n",
       "min        0.420000\n",
       "25%       20.125000\n",
       "50%       28.000000\n",
       "75%       38.000000\n",
       "max       80.000000\n",
       "Name: Age, dtype: float64"
      ]
     },
     "execution_count": 174,
     "metadata": {},
     "output_type": "execute_result"
    }
   ],
   "source": [
    "#grab just the age column and apply the describe method on \n",
    "df['Age'].describe()"
   ]
  },
  {
   "cell_type": "code",
   "execution_count": 176,
   "metadata": {},
   "outputs": [
    {
     "data": {
      "text/html": [
       "<div>\n",
       "<style scoped>\n",
       "    .dataframe tbody tr th:only-of-type {\n",
       "        vertical-align: middle;\n",
       "    }\n",
       "\n",
       "    .dataframe tbody tr th {\n",
       "        vertical-align: top;\n",
       "    }\n",
       "\n",
       "    .dataframe thead th {\n",
       "        text-align: right;\n",
       "    }\n",
       "</style>\n",
       "<table border=\"1\" class=\"dataframe\">\n",
       "  <thead>\n",
       "    <tr style=\"text-align: right;\">\n",
       "      <th></th>\n",
       "      <th>PassengerId</th>\n",
       "      <th>Survived</th>\n",
       "      <th>Pclass</th>\n",
       "      <th>Age</th>\n",
       "      <th>SibSp</th>\n",
       "      <th>Parch</th>\n",
       "      <th>Fare</th>\n",
       "    </tr>\n",
       "  </thead>\n",
       "  <tbody>\n",
       "    <tr>\n",
       "      <td>count</td>\n",
       "      <td>891.000000</td>\n",
       "      <td>891.000000</td>\n",
       "      <td>891.000000</td>\n",
       "      <td>714.000000</td>\n",
       "      <td>891.000000</td>\n",
       "      <td>891.000000</td>\n",
       "      <td>891.000000</td>\n",
       "    </tr>\n",
       "    <tr>\n",
       "      <td>mean</td>\n",
       "      <td>446.000000</td>\n",
       "      <td>0.383838</td>\n",
       "      <td>2.308642</td>\n",
       "      <td>29.699118</td>\n",
       "      <td>0.523008</td>\n",
       "      <td>0.381594</td>\n",
       "      <td>32.204208</td>\n",
       "    </tr>\n",
       "    <tr>\n",
       "      <td>std</td>\n",
       "      <td>257.353842</td>\n",
       "      <td>0.486592</td>\n",
       "      <td>0.836071</td>\n",
       "      <td>14.526497</td>\n",
       "      <td>1.102743</td>\n",
       "      <td>0.806057</td>\n",
       "      <td>49.693429</td>\n",
       "    </tr>\n",
       "    <tr>\n",
       "      <td>min</td>\n",
       "      <td>1.000000</td>\n",
       "      <td>0.000000</td>\n",
       "      <td>1.000000</td>\n",
       "      <td>0.420000</td>\n",
       "      <td>0.000000</td>\n",
       "      <td>0.000000</td>\n",
       "      <td>0.000000</td>\n",
       "    </tr>\n",
       "    <tr>\n",
       "      <td>25%</td>\n",
       "      <td>223.500000</td>\n",
       "      <td>0.000000</td>\n",
       "      <td>2.000000</td>\n",
       "      <td>20.125000</td>\n",
       "      <td>0.000000</td>\n",
       "      <td>0.000000</td>\n",
       "      <td>7.910400</td>\n",
       "    </tr>\n",
       "    <tr>\n",
       "      <td>50%</td>\n",
       "      <td>446.000000</td>\n",
       "      <td>0.000000</td>\n",
       "      <td>3.000000</td>\n",
       "      <td>28.000000</td>\n",
       "      <td>0.000000</td>\n",
       "      <td>0.000000</td>\n",
       "      <td>14.454200</td>\n",
       "    </tr>\n",
       "    <tr>\n",
       "      <td>75%</td>\n",
       "      <td>668.500000</td>\n",
       "      <td>1.000000</td>\n",
       "      <td>3.000000</td>\n",
       "      <td>38.000000</td>\n",
       "      <td>1.000000</td>\n",
       "      <td>0.000000</td>\n",
       "      <td>31.000000</td>\n",
       "    </tr>\n",
       "    <tr>\n",
       "      <td>max</td>\n",
       "      <td>891.000000</td>\n",
       "      <td>1.000000</td>\n",
       "      <td>3.000000</td>\n",
       "      <td>80.000000</td>\n",
       "      <td>8.000000</td>\n",
       "      <td>6.000000</td>\n",
       "      <td>512.329200</td>\n",
       "    </tr>\n",
       "  </tbody>\n",
       "</table>\n",
       "</div>"
      ],
      "text/plain": [
       "       PassengerId    Survived      Pclass         Age       SibSp  \\\n",
       "count   891.000000  891.000000  891.000000  714.000000  891.000000   \n",
       "mean    446.000000    0.383838    2.308642   29.699118    0.523008   \n",
       "std     257.353842    0.486592    0.836071   14.526497    1.102743   \n",
       "min       1.000000    0.000000    1.000000    0.420000    0.000000   \n",
       "25%     223.500000    0.000000    2.000000   20.125000    0.000000   \n",
       "50%     446.000000    0.000000    3.000000   28.000000    0.000000   \n",
       "75%     668.500000    1.000000    3.000000   38.000000    1.000000   \n",
       "max     891.000000    1.000000    3.000000   80.000000    8.000000   \n",
       "\n",
       "            Parch        Fare  \n",
       "count  891.000000  891.000000  \n",
       "mean     0.381594   32.204208  \n",
       "std      0.806057   49.693429  \n",
       "min      0.000000    0.000000  \n",
       "25%      0.000000    7.910400  \n",
       "50%      0.000000   14.454200  \n",
       "75%      0.000000   31.000000  \n",
       "max      6.000000  512.329200  "
      ]
     },
     "execution_count": 176,
     "metadata": {},
     "output_type": "execute_result"
    }
   ],
   "source": [
    "df.describe()"
   ]
  },
  {
   "cell_type": "code",
   "execution_count": 179,
   "metadata": {},
   "outputs": [],
   "source": [
    "??pd.read_csv"
   ]
  },
  {
   "cell_type": "code",
   "execution_count": 182,
   "metadata": {},
   "outputs": [
    {
     "data": {
      "text/html": [
       "<div>\n",
       "<style scoped>\n",
       "    .dataframe tbody tr th:only-of-type {\n",
       "        vertical-align: middle;\n",
       "    }\n",
       "\n",
       "    .dataframe tbody tr th {\n",
       "        vertical-align: top;\n",
       "    }\n",
       "\n",
       "    .dataframe thead th {\n",
       "        text-align: right;\n",
       "    }\n",
       "</style>\n",
       "<table border=\"1\" class=\"dataframe\">\n",
       "  <thead>\n",
       "    <tr style=\"text-align: right;\">\n",
       "      <th></th>\n",
       "      <th>Name</th>\n",
       "      <th>Sex</th>\n",
       "      <th>Ticket</th>\n",
       "      <th>Cabin</th>\n",
       "      <th>Embarked</th>\n",
       "    </tr>\n",
       "  </thead>\n",
       "  <tbody>\n",
       "    <tr>\n",
       "      <td>count</td>\n",
       "      <td>891</td>\n",
       "      <td>891</td>\n",
       "      <td>891</td>\n",
       "      <td>204</td>\n",
       "      <td>889</td>\n",
       "    </tr>\n",
       "    <tr>\n",
       "      <td>unique</td>\n",
       "      <td>891</td>\n",
       "      <td>2</td>\n",
       "      <td>681</td>\n",
       "      <td>147</td>\n",
       "      <td>3</td>\n",
       "    </tr>\n",
       "    <tr>\n",
       "      <td>top</td>\n",
       "      <td>Trout, Mrs. William H (Jessie L)</td>\n",
       "      <td>male</td>\n",
       "      <td>CA. 2343</td>\n",
       "      <td>C23 C25 C27</td>\n",
       "      <td>S</td>\n",
       "    </tr>\n",
       "    <tr>\n",
       "      <td>freq</td>\n",
       "      <td>1</td>\n",
       "      <td>577</td>\n",
       "      <td>7</td>\n",
       "      <td>4</td>\n",
       "      <td>644</td>\n",
       "    </tr>\n",
       "  </tbody>\n",
       "</table>\n",
       "</div>"
      ],
      "text/plain": [
       "                                    Name   Sex    Ticket        Cabin Embarked\n",
       "count                                891   891       891          204      889\n",
       "unique                               891     2       681          147        3\n",
       "top     Trout, Mrs. William H (Jessie L)  male  CA. 2343  C23 C25 C27        S\n",
       "freq                                   1   577         7            4      644"
      ]
     },
     "execution_count": 182,
     "metadata": {},
     "output_type": "execute_result"
    }
   ],
   "source": [
    "df.describe(include='object')"
   ]
  },
  {
   "cell_type": "code",
   "execution_count": 195,
   "metadata": {},
   "outputs": [
    {
     "data": {
      "text/plain": [
       "20"
      ]
     },
     "execution_count": 195,
     "metadata": {},
     "output_type": "execute_result"
    }
   ],
   "source": [
    "#count the number of rows where the 'Name' field contains 'Mary'\n",
    "df['Name'].str.contains('Mary').sum()"
   ]
  },
  {
   "cell_type": "markdown",
   "metadata": {},
   "source": [
    "### Conditional Logic\n",
    "#### Three primary keywords\n",
    "- If \n",
    "- Elif\n",
    "- Else\n",
    "\n",
    "In python True and False are their own unique data type (boolean). "
   ]
  },
  {
   "cell_type": "code",
   "execution_count": 210,
   "metadata": {},
   "outputs": [],
   "source": [
    "x = 10"
   ]
  },
  {
   "cell_type": "code",
   "execution_count": 209,
   "metadata": {},
   "outputs": [
    {
     "data": {
      "text/plain": [
       "bool"
      ]
     },
     "execution_count": 209,
     "metadata": {},
     "output_type": "execute_result"
    }
   ],
   "source": [
    "type(x != 11)"
   ]
  },
  {
   "cell_type": "code",
   "execution_count": 211,
   "metadata": {},
   "outputs": [
    {
     "data": {
      "text/plain": [
       "False"
      ]
     },
     "execution_count": 211,
     "metadata": {},
     "output_type": "execute_result"
    }
   ],
   "source": [
    "x != 10"
   ]
  },
  {
   "cell_type": "code",
   "execution_count": 213,
   "metadata": {},
   "outputs": [
    {
     "data": {
      "text/plain": [
       "True"
      ]
     },
     "execution_count": 213,
     "metadata": {},
     "output_type": "execute_result"
    }
   ],
   "source": [
    "True"
   ]
  },
  {
   "cell_type": "code",
   "execution_count": 216,
   "metadata": {},
   "outputs": [
    {
     "data": {
      "text/plain": [
       "bool"
      ]
     },
     "execution_count": 216,
     "metadata": {},
     "output_type": "execute_result"
    }
   ],
   "source": [
    "type(True)"
   ]
  },
  {
   "cell_type": "code",
   "execution_count": 218,
   "metadata": {},
   "outputs": [
    {
     "data": {
      "text/plain": [
       "True"
      ]
     },
     "execution_count": 218,
     "metadata": {},
     "output_type": "execute_result"
    }
   ],
   "source": [
    "True or False"
   ]
  },
  {
   "cell_type": "code",
   "execution_count": 219,
   "metadata": {},
   "outputs": [
    {
     "data": {
      "text/plain": [
       "True"
      ]
     },
     "execution_count": 219,
     "metadata": {},
     "output_type": "execute_result"
    }
   ],
   "source": [
    "x == 10 or x == 11"
   ]
  },
  {
   "cell_type": "code",
   "execution_count": 220,
   "metadata": {},
   "outputs": [
    {
     "data": {
      "text/plain": [
       "True"
      ]
     },
     "execution_count": 220,
     "metadata": {},
     "output_type": "execute_result"
    }
   ],
   "source": [
    "True or False and True or False"
   ]
  },
  {
   "cell_type": "code",
   "execution_count": 222,
   "metadata": {},
   "outputs": [],
   "source": [
    "a = 1\n",
    "b = 2\n",
    "c = 3"
   ]
  },
  {
   "cell_type": "code",
   "execution_count": 225,
   "metadata": {},
   "outputs": [
    {
     "data": {
      "text/plain": [
       "True"
      ]
     },
     "execution_count": 225,
     "metadata": {},
     "output_type": "execute_result"
    }
   ],
   "source": [
    "a == 1 or b == 3 and c == 3 or b == 5"
   ]
  },
  {
   "cell_type": "code",
   "execution_count": 226,
   "metadata": {},
   "outputs": [
    {
     "data": {
      "text/plain": [
       "True"
      ]
     },
     "execution_count": 226,
     "metadata": {},
     "output_type": "execute_result"
    }
   ],
   "source": [
    "not False"
   ]
  },
  {
   "cell_type": "code",
   "execution_count": 227,
   "metadata": {},
   "outputs": [
    {
     "data": {
      "text/plain": [
       "True"
      ]
     },
     "execution_count": 227,
     "metadata": {},
     "output_type": "execute_result"
    }
   ],
   "source": [
    "not a == 2"
   ]
  },
  {
   "cell_type": "code",
   "execution_count": 228,
   "metadata": {},
   "outputs": [
    {
     "data": {
      "text/plain": [
       "False"
      ]
     },
     "execution_count": 228,
     "metadata": {},
     "output_type": "execute_result"
    }
   ],
   "source": [
    "not True"
   ]
  },
  {
   "cell_type": "code",
   "execution_count": 229,
   "metadata": {},
   "outputs": [
    {
     "data": {
      "text/plain": [
       "False"
      ]
     },
     "execution_count": 229,
     "metadata": {},
     "output_type": "execute_result"
    }
   ],
   "source": [
    "not a == 1"
   ]
  },
  {
   "cell_type": "code",
   "execution_count": 230,
   "metadata": {},
   "outputs": [
    {
     "data": {
      "text/plain": [
       "True"
      ]
     },
     "execution_count": 230,
     "metadata": {},
     "output_type": "execute_result"
    }
   ],
   "source": [
    "True or False and False and False"
   ]
  },
  {
   "cell_type": "code",
   "execution_count": 231,
   "metadata": {},
   "outputs": [
    {
     "data": {
      "text/plain": [
       "True"
      ]
     },
     "execution_count": 231,
     "metadata": {},
     "output_type": "execute_result"
    }
   ],
   "source": [
    "a == 1 or a == 2 and a == 3 and a == 4"
   ]
  },
  {
   "cell_type": "code",
   "execution_count": 232,
   "metadata": {},
   "outputs": [
    {
     "data": {
      "text/plain": [
       "True"
      ]
     },
     "execution_count": 232,
     "metadata": {},
     "output_type": "execute_result"
    }
   ],
   "source": [
    "True or False or True or False"
   ]
  },
  {
   "cell_type": "code",
   "execution_count": 242,
   "metadata": {},
   "outputs": [
    {
     "data": {
      "text/plain": [
       "True"
      ]
     },
     "execution_count": 242,
     "metadata": {},
     "output_type": "execute_result"
    }
   ],
   "source": [
    "a == 1 or a == 3 or b == 2 or b == 3"
   ]
  },
  {
   "cell_type": "code",
   "execution_count": 245,
   "metadata": {},
   "outputs": [],
   "source": [
    "if True:\n",
    "    print(\"do this\")"
   ]
  },
  {
   "cell_type": "code",
   "execution_count": 281,
   "metadata": {},
   "outputs": [],
   "source": [
    "if x < 20:\n",
    "    print(\"It's True\")\n",
    "    x = x+1"
   ]
  },
  {
   "cell_type": "code",
   "execution_count": 282,
   "metadata": {},
   "outputs": [
    {
     "data": {
      "text/plain": [
       "20"
      ]
     },
     "execution_count": 282,
     "metadata": {},
     "output_type": "execute_result"
    }
   ],
   "source": [
    "x"
   ]
  },
  {
   "cell_type": "code",
   "execution_count": 288,
   "metadata": {},
   "outputs": [
    {
     "data": {
      "text/plain": [
       "891"
      ]
     },
     "execution_count": 288,
     "metadata": {},
     "output_type": "execute_result"
    }
   ],
   "source": [
    "df.shape[0]"
   ]
  },
  {
   "cell_type": "code",
   "execution_count": 289,
   "metadata": {},
   "outputs": [
    {
     "name": "stdout",
     "output_type": "stream",
     "text": [
      "Object `update_rows` not found.\n"
     ]
    }
   ],
   "source": [
    "?update_rows"
   ]
  },
  {
   "cell_type": "code",
   "execution_count": 290,
   "metadata": {},
   "outputs": [
    {
     "ename": "ModuleNotFoundError",
     "evalue": "No module named 'db'",
     "output_type": "error",
     "traceback": [
      "\u001b[0;31m---------------------------------------------------------------------------\u001b[0m",
      "\u001b[0;31mModuleNotFoundError\u001b[0m                       Traceback (most recent call last)",
      "\u001b[0;32m<ipython-input-290-9109c603e106>\u001b[0m in \u001b[0;36m<module>\u001b[0;34m\u001b[0m\n\u001b[0;32m----> 1\u001b[0;31m \u001b[0;32mfrom\u001b[0m \u001b[0mdb\u001b[0m \u001b[0;32mimport\u001b[0m \u001b[0mupdate_rows\u001b[0m\u001b[0;34m\u001b[0m\u001b[0;34m\u001b[0m\u001b[0m\n\u001b[0m",
      "\u001b[0;31mModuleNotFoundError\u001b[0m: No module named 'db'"
     ]
    }
   ],
   "source": [
    "from db import update_rows"
   ]
  },
  {
   "cell_type": "code",
   "execution_count": 291,
   "metadata": {},
   "outputs": [
    {
     "data": {
      "text/plain": [
       "80.0"
      ]
     },
     "execution_count": 291,
     "metadata": {},
     "output_type": "execute_result"
    }
   ],
   "source": [
    "df['Age'].max()"
   ]
  },
  {
   "cell_type": "code",
   "execution_count": 2,
   "metadata": {},
   "outputs": [
    {
     "ename": "NameError",
     "evalue": "name 'df' is not defined",
     "output_type": "error",
     "traceback": [
      "\u001b[0;31m---------------------------------------------------------------------------\u001b[0m",
      "\u001b[0;31mNameError\u001b[0m                                 Traceback (most recent call last)",
      "\u001b[0;32m<ipython-input-2-87831914a522>\u001b[0m in \u001b[0;36m<module>\u001b[0;34m\u001b[0m\n\u001b[0;32m----> 1\u001b[0;31m \u001b[0;32mif\u001b[0m \u001b[0mdf\u001b[0m\u001b[0;34m.\u001b[0m\u001b[0mround\u001b[0m\u001b[0;34m(\u001b[0m\u001b[0;36m0\u001b[0m\u001b[0;34m)\u001b[0m\u001b[0;34m[\u001b[0m\u001b[0;34m'Age'\u001b[0m\u001b[0;34m]\u001b[0m\u001b[0;34m.\u001b[0m\u001b[0mmax\u001b[0m\u001b[0;34m(\u001b[0m\u001b[0;34m)\u001b[0m \u001b[0;34m>\u001b[0m \u001b[0;36m65\u001b[0m\u001b[0;34m:\u001b[0m\u001b[0;34m\u001b[0m\u001b[0;34m\u001b[0m\u001b[0m\n\u001b[0m\u001b[1;32m      2\u001b[0m     \u001b[0mprint\u001b[0m\u001b[0;34m(\u001b[0m\u001b[0;34m\"We have a senior.\"\u001b[0m\u001b[0;34m)\u001b[0m\u001b[0;34m\u001b[0m\u001b[0;34m\u001b[0m\u001b[0m\n\u001b[1;32m      3\u001b[0m     \u001b[0mprint\u001b[0m\u001b[0;34m(\u001b[0m\u001b[0;34mf\"Their age is: {int(df['Age'].max())}\"\u001b[0m\u001b[0;34m)\u001b[0m\u001b[0;34m\u001b[0m\u001b[0;34m\u001b[0m\u001b[0m\n\u001b[1;32m      4\u001b[0m \u001b[0;32mif\u001b[0m \u001b[0mdf\u001b[0m\u001b[0;34m[\u001b[0m\u001b[0;34m'Fare'\u001b[0m\u001b[0;34m]\u001b[0m\u001b[0;34m.\u001b[0m\u001b[0mmax\u001b[0m\u001b[0;34m(\u001b[0m\u001b[0;34m)\u001b[0m \u001b[0;34m>\u001b[0m \u001b[0;36m250\u001b[0m\u001b[0;34m:\u001b[0m\u001b[0;34m\u001b[0m\u001b[0;34m\u001b[0m\u001b[0m\n\u001b[1;32m      5\u001b[0m           \u001b[0mprint\u001b[0m\u001b[0;34m(\u001b[0m\u001b[0;34m\"We have a high roller.\"\u001b[0m\u001b[0;34m)\u001b[0m\u001b[0;34m\u001b[0m\u001b[0;34m\u001b[0m\u001b[0m\n",
      "\u001b[0;31mNameError\u001b[0m: name 'df' is not defined"
     ]
    }
   ],
   "source": [
    "if df.round(0)['Age'].max() > 65:\n",
    "    print(\"We have a senior.\")\n",
    "    print(f\"Their age is: {int(df['Age'].max())}\")\n",
    "if df['Fare'].max() > 250:\n",
    "          print(\"We have a high roller.\")          \n",
    "else:\n",
    "    print(\"No Seniors.\")\n",
    "    print(\"Nothing is true.\")"
   ]
  },
  {
   "cell_type": "code",
   "execution_count": 14,
   "metadata": {},
   "outputs": [
    {
     "name": "stdout",
     "output_type": "stream",
     "text": [
      "HOW MANY CATS?: 75\n",
      "75?! That's too many cats!\n"
     ]
    }
   ],
   "source": [
    "cats = int(input(\"HOW MANY CATS?: \"))\n",
    "if cats > 50:\n",
    "    if cats > 100:\n",
    "        print(f\"I'm calling the police\")\n",
    "    else:\n",
    "        print(f\"{cats}?! That's too many cats!\")\n",
    "elif cats > 2:\n",
    "    print(f'{cats} seems like a lot of cats.')\n",
    "elif cats < 0:\n",
    "    print(\"That's impossible\")\n",
    "else:\n",
    "    print(f'{cats} cats is a reasonable number of cats to have')"
   ]
  },
  {
   "cell_type": "code",
   "execution_count": 13,
   "metadata": {},
   "outputs": [
    {
     "data": {
      "text/plain": [
       "80"
      ]
     },
     "execution_count": 13,
     "metadata": {},
     "output_type": "execute_result"
    }
   ],
   "source": [
    "df['Age'].max()"
   ]
  },
  {
   "cell_type": "markdown",
   "metadata": {},
   "source": [
    "### Lists\n",
    "##### COntainers that hold different variables\n",
    "##### Key DIstinctions:\n",
    "- Items have a distinct order\n",
    "- Can use slices to selectively grab items at different locations in list\n",
    "- Have various methods to get items in and out of them\n",
    "\n",
    "##### Most data are represented as lists\n",
    "- Tabular data\n",
    "- Images/higher dimensional data"
   ]
  },
  {
   "cell_type": "code",
   "execution_count": 26,
   "metadata": {},
   "outputs": [],
   "source": [
    "#create a list. The list has another list nested within it\n",
    "my_list = [1,2,3,True,False,'this','that',6,7,[1,2,3]]"
   ]
  },
  {
   "cell_type": "code",
   "execution_count": 30,
   "metadata": {},
   "outputs": [
    {
     "data": {
      "text/plain": [
       "1"
      ]
     },
     "execution_count": 30,
     "metadata": {},
     "output_type": "execute_result"
    }
   ],
   "source": [
    "# return first item in list\n",
    "my_list[0]"
   ]
  },
  {
   "cell_type": "code",
   "execution_count": 31,
   "metadata": {},
   "outputs": [
    {
     "data": {
      "text/plain": [
       "[1, 2, 3]"
      ]
     },
     "execution_count": 31,
     "metadata": {},
     "output_type": "execute_result"
    }
   ],
   "source": [
    "# return last item in list\n",
    "my_list[-1]"
   ]
  },
  {
   "cell_type": "code",
   "execution_count": 25,
   "metadata": {},
   "outputs": [
    {
     "data": {
      "text/plain": [
       "0        1\n",
       "1        2\n",
       "2        3\n",
       "3        4\n",
       "4        5\n",
       "      ... \n",
       "886    887\n",
       "887    888\n",
       "888    889\n",
       "889    890\n",
       "890    891\n",
       "Name: PassengerId, Length: 891, dtype: int64"
      ]
     },
     "execution_count": 25,
     "metadata": {},
     "output_type": "execute_result"
    }
   ],
   "source": [
    "#grab the column at position 0 in dataframe df\n",
    "df.iloc[:, 0]"
   ]
  },
  {
   "cell_type": "code",
   "execution_count": 34,
   "metadata": {},
   "outputs": [
    {
     "data": {
      "text/plain": [
       "0      S\n",
       "1      C\n",
       "2      S\n",
       "3      S\n",
       "4      S\n",
       "      ..\n",
       "886    S\n",
       "887    S\n",
       "888    S\n",
       "889    C\n",
       "890    Q\n",
       "Name: Embarked, Length: 891, dtype: object"
      ]
     },
     "execution_count": 34,
     "metadata": {},
     "output_type": "execute_result"
    }
   ],
   "source": [
    "# return the last column in the dataframe df\n",
    "# iloc = \"index-based location\"\n",
    "df.iloc[:,-1]"
   ]
  },
  {
   "cell_type": "code",
   "execution_count": 41,
   "metadata": {},
   "outputs": [
    {
     "data": {
      "text/plain": [
       "[3, True, False, 'this']"
      ]
     },
     "execution_count": 41,
     "metadata": {},
     "output_type": "execute_result"
    }
   ],
   "source": [
    "# return a slice of positions 2,3,4,5\n",
    "my_list[2:6]"
   ]
  },
  {
   "cell_type": "code",
   "execution_count": 42,
   "metadata": {},
   "outputs": [
    {
     "data": {
      "text/plain": [
       "[1, 2, 3, True, False, 'this']"
      ]
     },
     "execution_count": 42,
     "metadata": {},
     "output_type": "execute_result"
    }
   ],
   "source": [
    "# first 5 list items\n",
    "my_list[:6]"
   ]
  },
  {
   "cell_type": "code",
   "execution_count": 43,
   "metadata": {},
   "outputs": [
    {
     "data": {
      "text/html": [
       "<div>\n",
       "<style scoped>\n",
       "    .dataframe tbody tr th:only-of-type {\n",
       "        vertical-align: middle;\n",
       "    }\n",
       "\n",
       "    .dataframe tbody tr th {\n",
       "        vertical-align: top;\n",
       "    }\n",
       "\n",
       "    .dataframe thead th {\n",
       "        text-align: right;\n",
       "    }\n",
       "</style>\n",
       "<table border=\"1\" class=\"dataframe\">\n",
       "  <thead>\n",
       "    <tr style=\"text-align: right;\">\n",
       "      <th></th>\n",
       "      <th>PassengerId</th>\n",
       "      <th>Survived</th>\n",
       "      <th>Pclass</th>\n",
       "      <th>Name</th>\n",
       "      <th>Sex</th>\n",
       "    </tr>\n",
       "  </thead>\n",
       "  <tbody>\n",
       "    <tr>\n",
       "      <td>0</td>\n",
       "      <td>1</td>\n",
       "      <td>0</td>\n",
       "      <td>3</td>\n",
       "      <td>Braund, Mr. Owen Harris</td>\n",
       "      <td>male</td>\n",
       "    </tr>\n",
       "    <tr>\n",
       "      <td>1</td>\n",
       "      <td>2</td>\n",
       "      <td>1</td>\n",
       "      <td>1</td>\n",
       "      <td>Cumings, Mrs. John Bradley (Florence Briggs Th...</td>\n",
       "      <td>female</td>\n",
       "    </tr>\n",
       "    <tr>\n",
       "      <td>2</td>\n",
       "      <td>3</td>\n",
       "      <td>1</td>\n",
       "      <td>3</td>\n",
       "      <td>Heikkinen, Miss. Laina</td>\n",
       "      <td>female</td>\n",
       "    </tr>\n",
       "    <tr>\n",
       "      <td>3</td>\n",
       "      <td>4</td>\n",
       "      <td>1</td>\n",
       "      <td>1</td>\n",
       "      <td>Futrelle, Mrs. Jacques Heath (Lily May Peel)</td>\n",
       "      <td>female</td>\n",
       "    </tr>\n",
       "    <tr>\n",
       "      <td>4</td>\n",
       "      <td>5</td>\n",
       "      <td>0</td>\n",
       "      <td>3</td>\n",
       "      <td>Allen, Mr. William Henry</td>\n",
       "      <td>male</td>\n",
       "    </tr>\n",
       "    <tr>\n",
       "      <td>...</td>\n",
       "      <td>...</td>\n",
       "      <td>...</td>\n",
       "      <td>...</td>\n",
       "      <td>...</td>\n",
       "      <td>...</td>\n",
       "    </tr>\n",
       "    <tr>\n",
       "      <td>95</td>\n",
       "      <td>96</td>\n",
       "      <td>0</td>\n",
       "      <td>3</td>\n",
       "      <td>Shorney, Mr. Charles Joseph</td>\n",
       "      <td>male</td>\n",
       "    </tr>\n",
       "    <tr>\n",
       "      <td>96</td>\n",
       "      <td>97</td>\n",
       "      <td>0</td>\n",
       "      <td>1</td>\n",
       "      <td>Goldschmidt, Mr. George B</td>\n",
       "      <td>male</td>\n",
       "    </tr>\n",
       "    <tr>\n",
       "      <td>97</td>\n",
       "      <td>98</td>\n",
       "      <td>1</td>\n",
       "      <td>1</td>\n",
       "      <td>Greenfield, Mr. William Bertram</td>\n",
       "      <td>male</td>\n",
       "    </tr>\n",
       "    <tr>\n",
       "      <td>98</td>\n",
       "      <td>99</td>\n",
       "      <td>1</td>\n",
       "      <td>2</td>\n",
       "      <td>Doling, Mrs. John T (Ada Julia Bone)</td>\n",
       "      <td>female</td>\n",
       "    </tr>\n",
       "    <tr>\n",
       "      <td>99</td>\n",
       "      <td>100</td>\n",
       "      <td>0</td>\n",
       "      <td>2</td>\n",
       "      <td>Kantor, Mr. Sinai</td>\n",
       "      <td>male</td>\n",
       "    </tr>\n",
       "  </tbody>\n",
       "</table>\n",
       "<p>100 rows × 5 columns</p>\n",
       "</div>"
      ],
      "text/plain": [
       "    PassengerId  Survived  Pclass  \\\n",
       "0             1         0       3   \n",
       "1             2         1       1   \n",
       "2             3         1       3   \n",
       "3             4         1       1   \n",
       "4             5         0       3   \n",
       "..          ...       ...     ...   \n",
       "95           96         0       3   \n",
       "96           97         0       1   \n",
       "97           98         1       1   \n",
       "98           99         1       2   \n",
       "99          100         0       2   \n",
       "\n",
       "                                                 Name     Sex  \n",
       "0                             Braund, Mr. Owen Harris    male  \n",
       "1   Cumings, Mrs. John Bradley (Florence Briggs Th...  female  \n",
       "2                              Heikkinen, Miss. Laina  female  \n",
       "3        Futrelle, Mrs. Jacques Heath (Lily May Peel)  female  \n",
       "4                            Allen, Mr. William Henry    male  \n",
       "..                                                ...     ...  \n",
       "95                        Shorney, Mr. Charles Joseph    male  \n",
       "96                          Goldschmidt, Mr. George B    male  \n",
       "97                    Greenfield, Mr. William Bertram    male  \n",
       "98               Doling, Mrs. John T (Ada Julia Bone)  female  \n",
       "99                                  Kantor, Mr. Sinai    male  \n",
       "\n",
       "[100 rows x 5 columns]"
      ]
     },
     "execution_count": 43,
     "metadata": {},
     "output_type": "execute_result"
    }
   ],
   "source": [
    "# return the first 100 rows of the first 5 columns\n",
    "df.iloc[:100,:5]"
   ]
  },
  {
   "cell_type": "code",
   "execution_count": 48,
   "metadata": {},
   "outputs": [
    {
     "data": {
      "text/plain": [
       "PassengerId                           5\n",
       "Survived                              0\n",
       "Pclass                                3\n",
       "Name           Allen, Mr. William Henry\n",
       "Sex                                male\n",
       "Age                                  35\n",
       "SibSp                                 0\n",
       "Parch                                 0\n",
       "Ticket                           373450\n",
       "Fare                               8.05\n",
       "Cabin                               NaN\n",
       "Embarked                              S\n",
       "Name: 4, dtype: object"
      ]
     },
     "execution_count": 48,
     "metadata": {},
     "output_type": "execute_result"
    }
   ],
   "source": [
    "df.iloc[4]"
   ]
  },
  {
   "cell_type": "code",
   "execution_count": 53,
   "metadata": {},
   "outputs": [
    {
     "data": {
      "text/plain": [
       "3"
      ]
     },
     "execution_count": 53,
     "metadata": {},
     "output_type": "execute_result"
    }
   ],
   "source": [
    "# return the last value in the nested list (which is in the final position of the main list)\n",
    "my_list[-1][-1]"
   ]
  },
  {
   "cell_type": "code",
   "execution_count": 56,
   "metadata": {},
   "outputs": [
    {
     "data": {
      "text/plain": [
       "'Dooley, Mr. Patrick'"
      ]
     },
     "execution_count": 56,
     "metadata": {},
     "output_type": "execute_result"
    }
   ],
   "source": [
    "df.iloc[-1][3]"
   ]
  },
  {
   "cell_type": "code",
   "execution_count": 57,
   "metadata": {},
   "outputs": [
    {
     "data": {
      "text/plain": [
       "[1, 2, 3, True, False, 'this', 'that', 6, 7, [1, 2, 3]]"
      ]
     },
     "execution_count": 57,
     "metadata": {},
     "output_type": "execute_result"
    }
   ],
   "source": [
    "my_list"
   ]
  },
  {
   "cell_type": "code",
   "execution_count": 69,
   "metadata": {},
   "outputs": [
    {
     "name": "stdout",
     "output_type": "stream",
     "text": [
      "1\n",
      "type of item: <class 'int'>\n",
      "2\n",
      "type of item: <class 'int'>\n",
      "3\n",
      "type of item: <class 'int'>\n",
      "True\n",
      "type of item: <class 'bool'>\n",
      "False\n",
      "type of item: <class 'bool'>\n",
      "this\n",
      "type of item: <class 'str'>\n",
      "that\n",
      "type of item: <class 'str'>\n",
      "6\n",
      "type of item: <class 'int'>\n",
      "7\n",
      "type of item: <class 'int'>\n",
      "[1, 2, 3]\n",
      "type of item: <class 'list'>\n",
      "\n",
      " hi \n",
      " \n",
      " hello\n"
     ]
    }
   ],
   "source": [
    "for item in my_list:\n",
    "    print(item)\n",
    "    print(f\"type of item: {type(item)}\")\n",
    "print('\\n hi \\n \\n hello')"
   ]
  },
  {
   "cell_type": "code",
   "execution_count": 71,
   "metadata": {},
   "outputs": [
    {
     "name": "stdout",
     "output_type": "stream",
     "text": [
      "1\n",
      "2\n",
      "3\n",
      "True\n"
     ]
    }
   ],
   "source": [
    "# if you just want to loop through the first four items in a list\n",
    "for item in my_list[:4]:\n",
    "    print(item)\n",
    "    "
   ]
  },
  {
   "cell_type": "code",
   "execution_count": 76,
   "metadata": {},
   "outputs": [],
   "source": [
    "long_string = 'I have always been impressed by Mr Rogers'"
   ]
  },
  {
   "cell_type": "code",
   "execution_count": 77,
   "metadata": {},
   "outputs": [
    {
     "data": {
      "text/plain": [
       "['I', 'have', 'always', 'been', 'impressed', 'by', 'Mr', 'Rogers']"
      ]
     },
     "execution_count": 77,
     "metadata": {},
     "output_type": "execute_result"
    }
   ],
   "source": [
    "long_string.split()"
   ]
  },
  {
   "cell_type": "code",
   "execution_count": 110,
   "metadata": {},
   "outputs": [],
   "source": [
    "fruits = ['apple','banana','pear','raspberry','blackberry','watermelon','blueberry','apricot','melon','cranberry']"
   ]
  },
  {
   "cell_type": "code",
   "execution_count": 111,
   "metadata": {},
   "outputs": [
    {
     "data": {
      "text/plain": [
       "10"
      ]
     },
     "execution_count": 111,
     "metadata": {},
     "output_type": "execute_result"
    }
   ],
   "source": [
    "# check length of something\n",
    "len(fruits)"
   ]
  },
  {
   "cell_type": "code",
   "execution_count": 112,
   "metadata": {},
   "outputs": [
    {
     "data": {
      "text/plain": [
       "4"
      ]
     },
     "execution_count": 112,
     "metadata": {},
     "output_type": "execute_result"
    }
   ],
   "source": [
    "len('bear')"
   ]
  },
  {
   "cell_type": "code",
   "execution_count": 113,
   "metadata": {},
   "outputs": [
    {
     "name": "stdout",
     "output_type": "stream",
     "text": [
      "apple\n",
      "banana\n",
      "pear\n",
      "raspberry\n",
      "blackberry\n",
      "watermelon\n",
      "blueberry\n",
      "apricot\n",
      "melon\n",
      "cranberry\n"
     ]
    }
   ],
   "source": [
    "for fruit in fruits:\n",
    "    print(fruit)"
   ]
  },
  {
   "cell_type": "code",
   "execution_count": 114,
   "metadata": {},
   "outputs": [
    {
     "name": "stdout",
     "output_type": "stream",
     "text": [
      "apple  length: 5\n",
      "banana  length: 6\n",
      "pear  length: 4\n",
      "raspberry  length: 9\n",
      "blackberry  length: 10\n",
      "watermelon  length: 10\n",
      "blueberry  length: 9\n",
      "apricot  length: 7\n",
      "melon  length: 5\n",
      "cranberry  length: 9\n"
     ]
    }
   ],
   "source": [
    "# Create a loop that prints the name of every item in the list, as well as its length\n",
    "for fruit in fruits:\n",
    "    print(fruit,f' length: {len(fruit)}')"
   ]
  },
  {
   "cell_type": "code",
   "execution_count": 129,
   "metadata": {},
   "outputs": [
    {
     "name": "stdout",
     "output_type": "stream",
     "text": [
      "apple has a length of 5\n",
      "banana has a length of 6\n",
      "pear has a length of 4\n",
      "raspberry has a length of 9\n",
      "blackberry has a length of 10\n",
      "watermelon has a length of 10\n",
      "blueberry has a length of 9\n",
      "apricot has a length of 7\n",
      "melon has a length of 5\n",
      "cranberry has a length of 9\n"
     ]
    }
   ],
   "source": [
    "for fruit in fruits:\n",
    "    print(fruit, 'has a length of', len(fruit))"
   ]
  },
  {
   "cell_type": "code",
   "execution_count": 115,
   "metadata": {},
   "outputs": [
    {
     "name": "stdout",
     "output_type": "stream",
     "text": [
      "banana\n",
      "pear\n",
      "blackberry\n",
      "watermelon\n"
     ]
    }
   ],
   "source": [
    "#Create a loop that prints the name of every item in the list, if it's length is an even number. Use a comment on each line to describe what you're doing\n",
    "\n",
    "for fruit in fruits:\n",
    "    if len(fruit) % 2 == 0:\n",
    "        print(fruit)"
   ]
  },
  {
   "cell_type": "code",
   "execution_count": 116,
   "metadata": {},
   "outputs": [],
   "source": [
    "number_of_evens = 0\n",
    "for fruit in fruits:\n",
    "    if len(fruit) % 2 ==0:\n",
    "        number_of_evens = number_of_evens + 1"
   ]
  },
  {
   "cell_type": "code",
   "execution_count": 117,
   "metadata": {},
   "outputs": [
    {
     "data": {
      "text/plain": [
       "4"
      ]
     },
     "execution_count": 117,
     "metadata": {},
     "output_type": "execute_result"
    }
   ],
   "source": [
    "number_of_evens"
   ]
  },
  {
   "cell_type": "code",
   "execution_count": 118,
   "metadata": {},
   "outputs": [
    {
     "name": "stdout",
     "output_type": "stream",
     "text": [
      "['banana']\n",
      "['banana', 'pear']\n",
      "['banana', 'pear', 'blackberry']\n",
      "['banana', 'pear', 'blackberry', 'watermelon']\n"
     ]
    }
   ],
   "source": [
    "even_fruits = []\n",
    "for fruit in fruits:\n",
    "    if len(fruit) % 2 == 0:\n",
    "        even_fruits.append(fruit)\n",
    "        print(even_fruits)"
   ]
  },
  {
   "cell_type": "code",
   "execution_count": 121,
   "metadata": {},
   "outputs": [
    {
     "name": "stdout",
     "output_type": "stream",
     "text": [
      "['banana']\n",
      "['banana', 'pear']\n",
      "['banana', 'pear', 'blackberry']\n",
      "['banana', 'pear', 'blackberry', 'watermelon']\n"
     ]
    }
   ],
   "source": [
    "even_fruits = []\n",
    "for fruit in fruits:\n",
    "    if len(fruit) % 2 == 0:\n",
    "        even_fruits.append(fruit)\n",
    "        print(even_fruits)"
   ]
  },
  {
   "cell_type": "code",
   "execution_count": 122,
   "metadata": {},
   "outputs": [
    {
     "name": "stdout",
     "output_type": "stream",
     "text": [
      "['apple']\n",
      "['apple', 'apricot']\n",
      "['apple', 'apricot', 'melon']\n",
      "['apple', 'apricot', 'melon', 'cranberry']\n"
     ]
    }
   ],
   "source": [
    "new_list = []\n",
    "for fruit in fruits:\n",
    "    if fruit[0] == 'a' or fruit[0] == 'm' or fruit[0] == 'c':\n",
    "        new_list.append(fruit)\n",
    "        print(new_list)"
   ]
  },
  {
   "cell_type": "code",
   "execution_count": 132,
   "metadata": {},
   "outputs": [
    {
     "name": "stdout",
     "output_type": "stream",
     "text": [
      "(0, PassengerId                          1\n",
      "Survived                             0\n",
      "Pclass                               3\n",
      "Name           Braund, Mr. Owen Harris\n",
      "Sex                               male\n",
      "Age                                 22\n",
      "SibSp                                1\n",
      "Parch                                0\n",
      "Ticket                       A/5 21171\n",
      "Fare                              7.25\n",
      "Cabin                              NaN\n",
      "Embarked                             S\n",
      "Name: 0, dtype: object)\n",
      "(1, PassengerId                                                    2\n",
      "Survived                                                       1\n",
      "Pclass                                                         1\n",
      "Name           Cumings, Mrs. John Bradley (Florence Briggs Th...\n",
      "Sex                                                       female\n",
      "Age                                                           38\n",
      "SibSp                                                          1\n",
      "Parch                                                          0\n",
      "Ticket                                                  PC 17599\n",
      "Fare                                                     71.2833\n",
      "Cabin                                                        C85\n",
      "Embarked                                                       C\n",
      "Name: 1, dtype: object)\n"
     ]
    }
   ],
   "source": [
    "for row in df[:2].iterrows():\n",
    "    print(row)"
   ]
  },
  {
   "cell_type": "code",
   "execution_count": 130,
   "metadata": {},
   "outputs": [
    {
     "data": {
      "text/plain": [
       "<generator object DataFrame.iterrows at 0x11d616228>"
      ]
     },
     "execution_count": 130,
     "metadata": {},
     "output_type": "execute_result"
    }
   ],
   "source": [
    "df.iterrows()"
   ]
  },
  {
   "cell_type": "markdown",
   "metadata": {},
   "source": [
    "#### Dictionaries\n",
    "##### Used to hold items as key/value paires\n",
    "##### Unlike lists there is no inherent concept of order\n",
    "##### Common uses:\n",
    "- Manipulating columns in a dataset as key lookups\n",
    "- Carry information about users in a web application"
   ]
  },
  {
   "cell_type": "code",
   "execution_count": 133,
   "metadata": {},
   "outputs": [],
   "source": [
    "# create a dictionary named 'myself'\n",
    "myself = {\n",
    "    'name': 'Jonathan',\n",
    "    'age': 34,\n",
    "    'sign': 'aquarius',\n",
    "    'interests': ['reading','python','philosophy']\n",
    "}"
   ]
  },
  {
   "cell_type": "code",
   "execution_count": 134,
   "metadata": {},
   "outputs": [
    {
     "data": {
      "text/plain": [
       "{'name': 'Jonathan',\n",
       " 'age': 34,\n",
       " 'sign': 'aquarius',\n",
       " 'interests': ['reading', 'python', 'philosophy']}"
      ]
     },
     "execution_count": 134,
     "metadata": {},
     "output_type": "execute_result"
    }
   ],
   "source": [
    "myself"
   ]
  },
  {
   "cell_type": "code",
   "execution_count": 143,
   "metadata": {},
   "outputs": [
    {
     "name": "stdout",
     "output_type": "stream",
     "text": [
      "reading\n",
      "python\n",
      "philosophy\n"
     ]
    }
   ],
   "source": [
    "for interest in myself['interests']:\n",
    "    print(interest)"
   ]
  },
  {
   "cell_type": "markdown",
   "metadata": {},
   "source": [
    "- most API data is transported via dictionaries\n",
    "- JSON is like a dictionary that lives inside the web\n",
    "- useful library named Requests"
   ]
  },
  {
   "cell_type": "code",
   "execution_count": 148,
   "metadata": {},
   "outputs": [],
   "source": [
    "import requests"
   ]
  },
  {
   "cell_type": "code",
   "execution_count": 149,
   "metadata": {},
   "outputs": [],
   "source": [
    "url = 'https://api.census.gov/data.json'"
   ]
  },
  {
   "cell_type": "code",
   "execution_count": 151,
   "metadata": {},
   "outputs": [],
   "source": [
    "data = requests.get(url)"
   ]
  },
  {
   "cell_type": "code",
   "execution_count": 166,
   "metadata": {},
   "outputs": [],
   "source": [
    "# pass the dataset list into a dataframe\n",
    "web_df = pd.DataFrame(data.json()['dataset'])"
   ]
  },
  {
   "cell_type": "code",
   "execution_count": 168,
   "metadata": {},
   "outputs": [
    {
     "data": {
      "text/html": [
       "<div>\n",
       "<style scoped>\n",
       "    .dataframe tbody tr th:only-of-type {\n",
       "        vertical-align: middle;\n",
       "    }\n",
       "\n",
       "    .dataframe tbody tr th {\n",
       "        vertical-align: top;\n",
       "    }\n",
       "\n",
       "    .dataframe thead th {\n",
       "        text-align: right;\n",
       "    }\n",
       "</style>\n",
       "<table border=\"1\" class=\"dataframe\">\n",
       "  <thead>\n",
       "    <tr style=\"text-align: right;\">\n",
       "      <th></th>\n",
       "      <th>c_vintage</th>\n",
       "      <th>c_dataset</th>\n",
       "      <th>c_geographyLink</th>\n",
       "      <th>c_variablesLink</th>\n",
       "      <th>c_examplesLink</th>\n",
       "      <th>c_groupsLink</th>\n",
       "      <th>c_valuesLink</th>\n",
       "      <th>c_documentationLink</th>\n",
       "      <th>c_isAggregate</th>\n",
       "      <th>c_isCube</th>\n",
       "      <th>...</th>\n",
       "      <th>keyword</th>\n",
       "      <th>license</th>\n",
       "      <th>modified</th>\n",
       "      <th>programCode</th>\n",
       "      <th>references</th>\n",
       "      <th>spatial</th>\n",
       "      <th>temporal</th>\n",
       "      <th>publisher</th>\n",
       "      <th>c_tagsLink</th>\n",
       "      <th>c_isTimeseries</th>\n",
       "    </tr>\n",
       "  </thead>\n",
       "  <tbody>\n",
       "    <tr>\n",
       "      <td>0</td>\n",
       "      <td>1999.0</td>\n",
       "      <td>[nonemp]</td>\n",
       "      <td>https://api.census.gov/data/1999/nonemp/geogra...</td>\n",
       "      <td>https://api.census.gov/data/1999/nonemp/variab...</td>\n",
       "      <td>https://api.census.gov/data/1999/nonemp/exampl...</td>\n",
       "      <td>https://api.census.gov/data/1999/nonemp/groups...</td>\n",
       "      <td>https://api.census.gov/data/1999/nonemp/values...</td>\n",
       "      <td>http://www.census.gov/developer/</td>\n",
       "      <td>True</td>\n",
       "      <td>True</td>\n",
       "      <td>...</td>\n",
       "      <td>[]</td>\n",
       "      <td>http://creativecommons.org/publicdomain/zero/1...</td>\n",
       "      <td>2017-02-09</td>\n",
       "      <td>[006:007]</td>\n",
       "      <td>[http://www.census.gov/developers/]</td>\n",
       "      <td>United States</td>\n",
       "      <td>1999/1999</td>\n",
       "      <td>{'@type': 'org:Organization', 'name': 'U.S. Ce...</td>\n",
       "      <td>NaN</td>\n",
       "      <td>NaN</td>\n",
       "    </tr>\n",
       "    <tr>\n",
       "      <td>1</td>\n",
       "      <td>1997.0</td>\n",
       "      <td>[nonemp]</td>\n",
       "      <td>https://api.census.gov/data/1997/nonemp/geogra...</td>\n",
       "      <td>https://api.census.gov/data/1997/nonemp/variab...</td>\n",
       "      <td>https://api.census.gov/data/1997/nonemp/exampl...</td>\n",
       "      <td>https://api.census.gov/data/1997/nonemp/groups...</td>\n",
       "      <td>https://api.census.gov/data/1997/nonemp/values...</td>\n",
       "      <td>http://www.census.gov/developer/</td>\n",
       "      <td>True</td>\n",
       "      <td>True</td>\n",
       "      <td>...</td>\n",
       "      <td>[]</td>\n",
       "      <td>http://creativecommons.org/publicdomain/zero/1...</td>\n",
       "      <td>2017-02-09</td>\n",
       "      <td>[006:007]</td>\n",
       "      <td>[http://www.census.gov/developers/]</td>\n",
       "      <td>United States</td>\n",
       "      <td>1997/1997</td>\n",
       "      <td>{'@type': 'org:Organization', 'name': 'U.S. Ce...</td>\n",
       "      <td>NaN</td>\n",
       "      <td>NaN</td>\n",
       "    </tr>\n",
       "    <tr>\n",
       "      <td>2</td>\n",
       "      <td>1986.0</td>\n",
       "      <td>[cbp]</td>\n",
       "      <td>https://api.census.gov/data/1986/cbp/geography...</td>\n",
       "      <td>https://api.census.gov/data/1986/cbp/variables...</td>\n",
       "      <td>https://api.census.gov/data/1986/cbp/examples....</td>\n",
       "      <td>https://api.census.gov/data/1986/cbp/groups.json</td>\n",
       "      <td>https://api.census.gov/data/1986/cbp/values.json</td>\n",
       "      <td>http://www.census.gov/developer/</td>\n",
       "      <td>True</td>\n",
       "      <td>NaN</td>\n",
       "      <td>...</td>\n",
       "      <td>[]</td>\n",
       "      <td>http://creativecommons.org/publicdomain/zero/1...</td>\n",
       "      <td>2019-02-13</td>\n",
       "      <td>[006:007]</td>\n",
       "      <td>[http://www.census.gov/developers/]</td>\n",
       "      <td>United States</td>\n",
       "      <td>1986/1986</td>\n",
       "      <td>{'@type': 'org:Organization', 'name': 'U.S. Ce...</td>\n",
       "      <td>NaN</td>\n",
       "      <td>NaN</td>\n",
       "    </tr>\n",
       "    <tr>\n",
       "      <td>3</td>\n",
       "      <td>1997.0</td>\n",
       "      <td>[zbp]</td>\n",
       "      <td>https://api.census.gov/data/1997/zbp/geography...</td>\n",
       "      <td>https://api.census.gov/data/1997/zbp/variables...</td>\n",
       "      <td>https://api.census.gov/data/1997/zbp/examples....</td>\n",
       "      <td>https://api.census.gov/data/1997/zbp/groups.json</td>\n",
       "      <td>https://api.census.gov/data/1997/zbp/values.json</td>\n",
       "      <td>http://www.census.gov/developer/</td>\n",
       "      <td>True</td>\n",
       "      <td>NaN</td>\n",
       "      <td>...</td>\n",
       "      <td>[]</td>\n",
       "      <td>http://creativecommons.org/publicdomain/zero/1...</td>\n",
       "      <td>2017-05-23</td>\n",
       "      <td>[006:007]</td>\n",
       "      <td>[http://www.census.gov/developers/]</td>\n",
       "      <td>United States</td>\n",
       "      <td>1997/1997</td>\n",
       "      <td>{'@type': 'org:Organization', 'name': 'U.S. Ce...</td>\n",
       "      <td>NaN</td>\n",
       "      <td>NaN</td>\n",
       "    </tr>\n",
       "    <tr>\n",
       "      <td>4</td>\n",
       "      <td>1987.0</td>\n",
       "      <td>[cbp]</td>\n",
       "      <td>https://api.census.gov/data/1987/cbp/geography...</td>\n",
       "      <td>https://api.census.gov/data/1987/cbp/variables...</td>\n",
       "      <td>https://api.census.gov/data/1987/cbp/examples....</td>\n",
       "      <td>https://api.census.gov/data/1987/cbp/groups.json</td>\n",
       "      <td>https://api.census.gov/data/1987/cbp/values.json</td>\n",
       "      <td>http://www.census.gov/developer/</td>\n",
       "      <td>True</td>\n",
       "      <td>NaN</td>\n",
       "      <td>...</td>\n",
       "      <td>[]</td>\n",
       "      <td>http://creativecommons.org/publicdomain/zero/1...</td>\n",
       "      <td>2019-02-13</td>\n",
       "      <td>[006:007]</td>\n",
       "      <td>[http://www.census.gov/developers/]</td>\n",
       "      <td>United States</td>\n",
       "      <td>1987/1987</td>\n",
       "      <td>{'@type': 'org:Organization', 'name': 'U.S. Ce...</td>\n",
       "      <td>NaN</td>\n",
       "      <td>NaN</td>\n",
       "    </tr>\n",
       "  </tbody>\n",
       "</table>\n",
       "<p>5 rows × 29 columns</p>\n",
       "</div>"
      ],
      "text/plain": [
       "   c_vintage c_dataset                                    c_geographyLink  \\\n",
       "0     1999.0  [nonemp]  https://api.census.gov/data/1999/nonemp/geogra...   \n",
       "1     1997.0  [nonemp]  https://api.census.gov/data/1997/nonemp/geogra...   \n",
       "2     1986.0     [cbp]  https://api.census.gov/data/1986/cbp/geography...   \n",
       "3     1997.0     [zbp]  https://api.census.gov/data/1997/zbp/geography...   \n",
       "4     1987.0     [cbp]  https://api.census.gov/data/1987/cbp/geography...   \n",
       "\n",
       "                                     c_variablesLink  \\\n",
       "0  https://api.census.gov/data/1999/nonemp/variab...   \n",
       "1  https://api.census.gov/data/1997/nonemp/variab...   \n",
       "2  https://api.census.gov/data/1986/cbp/variables...   \n",
       "3  https://api.census.gov/data/1997/zbp/variables...   \n",
       "4  https://api.census.gov/data/1987/cbp/variables...   \n",
       "\n",
       "                                      c_examplesLink  \\\n",
       "0  https://api.census.gov/data/1999/nonemp/exampl...   \n",
       "1  https://api.census.gov/data/1997/nonemp/exampl...   \n",
       "2  https://api.census.gov/data/1986/cbp/examples....   \n",
       "3  https://api.census.gov/data/1997/zbp/examples....   \n",
       "4  https://api.census.gov/data/1987/cbp/examples....   \n",
       "\n",
       "                                        c_groupsLink  \\\n",
       "0  https://api.census.gov/data/1999/nonemp/groups...   \n",
       "1  https://api.census.gov/data/1997/nonemp/groups...   \n",
       "2   https://api.census.gov/data/1986/cbp/groups.json   \n",
       "3   https://api.census.gov/data/1997/zbp/groups.json   \n",
       "4   https://api.census.gov/data/1987/cbp/groups.json   \n",
       "\n",
       "                                        c_valuesLink  \\\n",
       "0  https://api.census.gov/data/1999/nonemp/values...   \n",
       "1  https://api.census.gov/data/1997/nonemp/values...   \n",
       "2   https://api.census.gov/data/1986/cbp/values.json   \n",
       "3   https://api.census.gov/data/1997/zbp/values.json   \n",
       "4   https://api.census.gov/data/1987/cbp/values.json   \n",
       "\n",
       "                c_documentationLink c_isAggregate c_isCube  ...  keyword  \\\n",
       "0  http://www.census.gov/developer/          True     True  ...       []   \n",
       "1  http://www.census.gov/developer/          True     True  ...       []   \n",
       "2  http://www.census.gov/developer/          True      NaN  ...       []   \n",
       "3  http://www.census.gov/developer/          True      NaN  ...       []   \n",
       "4  http://www.census.gov/developer/          True      NaN  ...       []   \n",
       "\n",
       "                                             license    modified programCode  \\\n",
       "0  http://creativecommons.org/publicdomain/zero/1...  2017-02-09   [006:007]   \n",
       "1  http://creativecommons.org/publicdomain/zero/1...  2017-02-09   [006:007]   \n",
       "2  http://creativecommons.org/publicdomain/zero/1...  2019-02-13   [006:007]   \n",
       "3  http://creativecommons.org/publicdomain/zero/1...  2017-05-23   [006:007]   \n",
       "4  http://creativecommons.org/publicdomain/zero/1...  2019-02-13   [006:007]   \n",
       "\n",
       "                            references        spatial   temporal  \\\n",
       "0  [http://www.census.gov/developers/]  United States  1999/1999   \n",
       "1  [http://www.census.gov/developers/]  United States  1997/1997   \n",
       "2  [http://www.census.gov/developers/]  United States  1986/1986   \n",
       "3  [http://www.census.gov/developers/]  United States  1997/1997   \n",
       "4  [http://www.census.gov/developers/]  United States  1987/1987   \n",
       "\n",
       "                                           publisher c_tagsLink c_isTimeseries  \n",
       "0  {'@type': 'org:Organization', 'name': 'U.S. Ce...        NaN            NaN  \n",
       "1  {'@type': 'org:Organization', 'name': 'U.S. Ce...        NaN            NaN  \n",
       "2  {'@type': 'org:Organization', 'name': 'U.S. Ce...        NaN            NaN  \n",
       "3  {'@type': 'org:Organization', 'name': 'U.S. Ce...        NaN            NaN  \n",
       "4  {'@type': 'org:Organization', 'name': 'U.S. Ce...        NaN            NaN  \n",
       "\n",
       "[5 rows x 29 columns]"
      ]
     },
     "execution_count": 168,
     "metadata": {},
     "output_type": "execute_result"
    }
   ],
   "source": [
    "web_df.head()"
   ]
  },
  {
   "cell_type": "code",
   "execution_count": 169,
   "metadata": {},
   "outputs": [
    {
     "data": {
      "text/html": [
       "<div>\n",
       "<style scoped>\n",
       "    .dataframe tbody tr th:only-of-type {\n",
       "        vertical-align: middle;\n",
       "    }\n",
       "\n",
       "    .dataframe tbody tr th {\n",
       "        vertical-align: top;\n",
       "    }\n",
       "\n",
       "    .dataframe thead th {\n",
       "        text-align: right;\n",
       "    }\n",
       "</style>\n",
       "<table border=\"1\" class=\"dataframe\">\n",
       "  <thead>\n",
       "    <tr style=\"text-align: right;\">\n",
       "      <th></th>\n",
       "      <th>c_vintage</th>\n",
       "      <th>c_dataset</th>\n",
       "      <th>c_geographyLink</th>\n",
       "      <th>c_variablesLink</th>\n",
       "      <th>c_examplesLink</th>\n",
       "      <th>c_groupsLink</th>\n",
       "      <th>c_valuesLink</th>\n",
       "      <th>c_documentationLink</th>\n",
       "      <th>c_isAggregate</th>\n",
       "      <th>c_isCube</th>\n",
       "      <th>...</th>\n",
       "      <th>keyword</th>\n",
       "      <th>license</th>\n",
       "      <th>modified</th>\n",
       "      <th>programCode</th>\n",
       "      <th>references</th>\n",
       "      <th>spatial</th>\n",
       "      <th>temporal</th>\n",
       "      <th>publisher</th>\n",
       "      <th>c_tagsLink</th>\n",
       "      <th>c_isTimeseries</th>\n",
       "    </tr>\n",
       "  </thead>\n",
       "  <tbody>\n",
       "    <tr>\n",
       "      <td>0</td>\n",
       "      <td>1999.0</td>\n",
       "      <td>[nonemp]</td>\n",
       "      <td>https://api.census.gov/data/1999/nonemp/geogra...</td>\n",
       "      <td>https://api.census.gov/data/1999/nonemp/variab...</td>\n",
       "      <td>https://api.census.gov/data/1999/nonemp/exampl...</td>\n",
       "      <td>https://api.census.gov/data/1999/nonemp/groups...</td>\n",
       "      <td>https://api.census.gov/data/1999/nonemp/values...</td>\n",
       "      <td>http://www.census.gov/developer/</td>\n",
       "      <td>True</td>\n",
       "      <td>True</td>\n",
       "      <td>...</td>\n",
       "      <td>[]</td>\n",
       "      <td>http://creativecommons.org/publicdomain/zero/1...</td>\n",
       "      <td>2017-02-09</td>\n",
       "      <td>[006:007]</td>\n",
       "      <td>[http://www.census.gov/developers/]</td>\n",
       "      <td>United States</td>\n",
       "      <td>1999/1999</td>\n",
       "      <td>{'@type': 'org:Organization', 'name': 'U.S. Ce...</td>\n",
       "      <td>NaN</td>\n",
       "      <td>NaN</td>\n",
       "    </tr>\n",
       "    <tr>\n",
       "      <td>1</td>\n",
       "      <td>1997.0</td>\n",
       "      <td>[nonemp]</td>\n",
       "      <td>https://api.census.gov/data/1997/nonemp/geogra...</td>\n",
       "      <td>https://api.census.gov/data/1997/nonemp/variab...</td>\n",
       "      <td>https://api.census.gov/data/1997/nonemp/exampl...</td>\n",
       "      <td>https://api.census.gov/data/1997/nonemp/groups...</td>\n",
       "      <td>https://api.census.gov/data/1997/nonemp/values...</td>\n",
       "      <td>http://www.census.gov/developer/</td>\n",
       "      <td>True</td>\n",
       "      <td>True</td>\n",
       "      <td>...</td>\n",
       "      <td>[]</td>\n",
       "      <td>http://creativecommons.org/publicdomain/zero/1...</td>\n",
       "      <td>2017-02-09</td>\n",
       "      <td>[006:007]</td>\n",
       "      <td>[http://www.census.gov/developers/]</td>\n",
       "      <td>United States</td>\n",
       "      <td>1997/1997</td>\n",
       "      <td>{'@type': 'org:Organization', 'name': 'U.S. Ce...</td>\n",
       "      <td>NaN</td>\n",
       "      <td>NaN</td>\n",
       "    </tr>\n",
       "    <tr>\n",
       "      <td>2</td>\n",
       "      <td>1986.0</td>\n",
       "      <td>[cbp]</td>\n",
       "      <td>https://api.census.gov/data/1986/cbp/geography...</td>\n",
       "      <td>https://api.census.gov/data/1986/cbp/variables...</td>\n",
       "      <td>https://api.census.gov/data/1986/cbp/examples....</td>\n",
       "      <td>https://api.census.gov/data/1986/cbp/groups.json</td>\n",
       "      <td>https://api.census.gov/data/1986/cbp/values.json</td>\n",
       "      <td>http://www.census.gov/developer/</td>\n",
       "      <td>True</td>\n",
       "      <td>NaN</td>\n",
       "      <td>...</td>\n",
       "      <td>[]</td>\n",
       "      <td>http://creativecommons.org/publicdomain/zero/1...</td>\n",
       "      <td>2019-02-13</td>\n",
       "      <td>[006:007]</td>\n",
       "      <td>[http://www.census.gov/developers/]</td>\n",
       "      <td>United States</td>\n",
       "      <td>1986/1986</td>\n",
       "      <td>{'@type': 'org:Organization', 'name': 'U.S. Ce...</td>\n",
       "      <td>NaN</td>\n",
       "      <td>NaN</td>\n",
       "    </tr>\n",
       "    <tr>\n",
       "      <td>3</td>\n",
       "      <td>1997.0</td>\n",
       "      <td>[zbp]</td>\n",
       "      <td>https://api.census.gov/data/1997/zbp/geography...</td>\n",
       "      <td>https://api.census.gov/data/1997/zbp/variables...</td>\n",
       "      <td>https://api.census.gov/data/1997/zbp/examples....</td>\n",
       "      <td>https://api.census.gov/data/1997/zbp/groups.json</td>\n",
       "      <td>https://api.census.gov/data/1997/zbp/values.json</td>\n",
       "      <td>http://www.census.gov/developer/</td>\n",
       "      <td>True</td>\n",
       "      <td>NaN</td>\n",
       "      <td>...</td>\n",
       "      <td>[]</td>\n",
       "      <td>http://creativecommons.org/publicdomain/zero/1...</td>\n",
       "      <td>2017-05-23</td>\n",
       "      <td>[006:007]</td>\n",
       "      <td>[http://www.census.gov/developers/]</td>\n",
       "      <td>United States</td>\n",
       "      <td>1997/1997</td>\n",
       "      <td>{'@type': 'org:Organization', 'name': 'U.S. Ce...</td>\n",
       "      <td>NaN</td>\n",
       "      <td>NaN</td>\n",
       "    </tr>\n",
       "    <tr>\n",
       "      <td>4</td>\n",
       "      <td>1987.0</td>\n",
       "      <td>[cbp]</td>\n",
       "      <td>https://api.census.gov/data/1987/cbp/geography...</td>\n",
       "      <td>https://api.census.gov/data/1987/cbp/variables...</td>\n",
       "      <td>https://api.census.gov/data/1987/cbp/examples....</td>\n",
       "      <td>https://api.census.gov/data/1987/cbp/groups.json</td>\n",
       "      <td>https://api.census.gov/data/1987/cbp/values.json</td>\n",
       "      <td>http://www.census.gov/developer/</td>\n",
       "      <td>True</td>\n",
       "      <td>NaN</td>\n",
       "      <td>...</td>\n",
       "      <td>[]</td>\n",
       "      <td>http://creativecommons.org/publicdomain/zero/1...</td>\n",
       "      <td>2019-02-13</td>\n",
       "      <td>[006:007]</td>\n",
       "      <td>[http://www.census.gov/developers/]</td>\n",
       "      <td>United States</td>\n",
       "      <td>1987/1987</td>\n",
       "      <td>{'@type': 'org:Organization', 'name': 'U.S. Ce...</td>\n",
       "      <td>NaN</td>\n",
       "      <td>NaN</td>\n",
       "    </tr>\n",
       "    <tr>\n",
       "      <td>...</td>\n",
       "      <td>...</td>\n",
       "      <td>...</td>\n",
       "      <td>...</td>\n",
       "      <td>...</td>\n",
       "      <td>...</td>\n",
       "      <td>...</td>\n",
       "      <td>...</td>\n",
       "      <td>...</td>\n",
       "      <td>...</td>\n",
       "      <td>...</td>\n",
       "      <td>...</td>\n",
       "      <td>...</td>\n",
       "      <td>...</td>\n",
       "      <td>...</td>\n",
       "      <td>...</td>\n",
       "      <td>...</td>\n",
       "      <td>...</td>\n",
       "      <td>...</td>\n",
       "      <td>...</td>\n",
       "      <td>...</td>\n",
       "      <td>...</td>\n",
       "    </tr>\n",
       "    <tr>\n",
       "      <td>383</td>\n",
       "      <td>2018.0</td>\n",
       "      <td>[acs, acs5, profile]</td>\n",
       "      <td>https://api.census.gov/data/2018/acs/acs5/prof...</td>\n",
       "      <td>https://api.census.gov/data/2018/acs/acs5/prof...</td>\n",
       "      <td>https://api.census.gov/data/2018/acs/acs5/prof...</td>\n",
       "      <td>https://api.census.gov/data/2018/acs/acs5/prof...</td>\n",
       "      <td>https://api.census.gov/data/2018/acs/acs5/prof...</td>\n",
       "      <td>https://www.census.gov/developer/</td>\n",
       "      <td>True</td>\n",
       "      <td>True</td>\n",
       "      <td>...</td>\n",
       "      <td>[]</td>\n",
       "      <td>https://creativecommons.org/publicdomain/zero/...</td>\n",
       "      <td>2019-10-22 16:22:18.0</td>\n",
       "      <td>[006:004]</td>\n",
       "      <td>[https://www.census.gov/developers/]</td>\n",
       "      <td>NaN</td>\n",
       "      <td>unidentified</td>\n",
       "      <td>{'@type': 'org:Organization', 'name': 'U.S. Ce...</td>\n",
       "      <td>NaN</td>\n",
       "      <td>NaN</td>\n",
       "    </tr>\n",
       "    <tr>\n",
       "      <td>384</td>\n",
       "      <td>2018.0</td>\n",
       "      <td>[acs, acs5, cprofile]</td>\n",
       "      <td>https://api.census.gov/data/2018/acs/acs5/cpro...</td>\n",
       "      <td>https://api.census.gov/data/2018/acs/acs5/cpro...</td>\n",
       "      <td>https://api.census.gov/data/2018/acs/acs5/cpro...</td>\n",
       "      <td>https://api.census.gov/data/2018/acs/acs5/cpro...</td>\n",
       "      <td>https://api.census.gov/data/2018/acs/acs5/cpro...</td>\n",
       "      <td>https://www.census.gov/developer/</td>\n",
       "      <td>True</td>\n",
       "      <td>True</td>\n",
       "      <td>...</td>\n",
       "      <td>[]</td>\n",
       "      <td>https://creativecommons.org/publicdomain/zero/...</td>\n",
       "      <td>2019-10-22 14:54:09.0</td>\n",
       "      <td>[006:004]</td>\n",
       "      <td>[https://www.census.gov/developers/]</td>\n",
       "      <td>NaN</td>\n",
       "      <td>unidentified</td>\n",
       "      <td>{'@type': 'org:Organization', 'name': 'U.S. Ce...</td>\n",
       "      <td>NaN</td>\n",
       "      <td>NaN</td>\n",
       "    </tr>\n",
       "    <tr>\n",
       "      <td>385</td>\n",
       "      <td>2012.0</td>\n",
       "      <td>[cfsarea]</td>\n",
       "      <td>https://api.census.gov/data/2012/cfsarea/geogr...</td>\n",
       "      <td>https://api.census.gov/data/2012/cfsarea/varia...</td>\n",
       "      <td>https://api.census.gov/data/2012/cfsarea/examp...</td>\n",
       "      <td>https://api.census.gov/data/2012/cfsarea/group...</td>\n",
       "      <td>https://api.census.gov/data/2012/cfsarea/value...</td>\n",
       "      <td>https://www.census.gov/developer/</td>\n",
       "      <td>True</td>\n",
       "      <td>NaN</td>\n",
       "      <td>...</td>\n",
       "      <td>[]</td>\n",
       "      <td>https://creativecommons.org/publicdomain/zero/...</td>\n",
       "      <td>2019-11-18 16:03:01.0</td>\n",
       "      <td>[006:007]</td>\n",
       "      <td>[https://www.census.gov/developers/]</td>\n",
       "      <td>NaN</td>\n",
       "      <td>unidentified</td>\n",
       "      <td>{'@type': 'org:Organization', 'name': 'U.S. Ce...</td>\n",
       "      <td>NaN</td>\n",
       "      <td>NaN</td>\n",
       "    </tr>\n",
       "    <tr>\n",
       "      <td>386</td>\n",
       "      <td>2012.0</td>\n",
       "      <td>[cfsexport]</td>\n",
       "      <td>https://api.census.gov/data/2012/cfsexport/geo...</td>\n",
       "      <td>https://api.census.gov/data/2012/cfsexport/var...</td>\n",
       "      <td>https://api.census.gov/data/2012/cfsexport/exa...</td>\n",
       "      <td>https://api.census.gov/data/2012/cfsexport/gro...</td>\n",
       "      <td>https://api.census.gov/data/2012/cfsexport/val...</td>\n",
       "      <td>https://www.census.gov/developer/</td>\n",
       "      <td>True</td>\n",
       "      <td>NaN</td>\n",
       "      <td>...</td>\n",
       "      <td>[]</td>\n",
       "      <td>https://creativecommons.org/publicdomain/zero/...</td>\n",
       "      <td>2019-11-18 16:03:11.0</td>\n",
       "      <td>[006:007]</td>\n",
       "      <td>[https://www.census.gov/developers/]</td>\n",
       "      <td>NaN</td>\n",
       "      <td>unidentified</td>\n",
       "      <td>{'@type': 'org:Organization', 'name': 'U.S. Ce...</td>\n",
       "      <td>NaN</td>\n",
       "      <td>NaN</td>\n",
       "    </tr>\n",
       "    <tr>\n",
       "      <td>387</td>\n",
       "      <td>2018.0</td>\n",
       "      <td>[acs, acs5, subject]</td>\n",
       "      <td>https://api.census.gov/data/2018/acs/acs5/subj...</td>\n",
       "      <td>https://api.census.gov/data/2018/acs/acs5/subj...</td>\n",
       "      <td>https://api.census.gov/data/2018/acs/acs5/subj...</td>\n",
       "      <td>https://api.census.gov/data/2018/acs/acs5/subj...</td>\n",
       "      <td>https://api.census.gov/data/2018/acs/acs5/subj...</td>\n",
       "      <td>https://www.census.gov/developer/</td>\n",
       "      <td>True</td>\n",
       "      <td>True</td>\n",
       "      <td>...</td>\n",
       "      <td>[]</td>\n",
       "      <td>https://creativecommons.org/publicdomain/zero/...</td>\n",
       "      <td>2019-10-22 15:36:29.0</td>\n",
       "      <td>[006:004]</td>\n",
       "      <td>[https://www.census.gov/developers/]</td>\n",
       "      <td>NaN</td>\n",
       "      <td>unidentified</td>\n",
       "      <td>{'@type': 'org:Organization', 'name': 'U.S. Ce...</td>\n",
       "      <td>https://api.census.gov/data/2018/acs/acs5/subj...</td>\n",
       "      <td>NaN</td>\n",
       "    </tr>\n",
       "  </tbody>\n",
       "</table>\n",
       "<p>388 rows × 29 columns</p>\n",
       "</div>"
      ],
      "text/plain": [
       "     c_vintage              c_dataset  \\\n",
       "0       1999.0               [nonemp]   \n",
       "1       1997.0               [nonemp]   \n",
       "2       1986.0                  [cbp]   \n",
       "3       1997.0                  [zbp]   \n",
       "4       1987.0                  [cbp]   \n",
       "..         ...                    ...   \n",
       "383     2018.0   [acs, acs5, profile]   \n",
       "384     2018.0  [acs, acs5, cprofile]   \n",
       "385     2012.0              [cfsarea]   \n",
       "386     2012.0            [cfsexport]   \n",
       "387     2018.0   [acs, acs5, subject]   \n",
       "\n",
       "                                       c_geographyLink  \\\n",
       "0    https://api.census.gov/data/1999/nonemp/geogra...   \n",
       "1    https://api.census.gov/data/1997/nonemp/geogra...   \n",
       "2    https://api.census.gov/data/1986/cbp/geography...   \n",
       "3    https://api.census.gov/data/1997/zbp/geography...   \n",
       "4    https://api.census.gov/data/1987/cbp/geography...   \n",
       "..                                                 ...   \n",
       "383  https://api.census.gov/data/2018/acs/acs5/prof...   \n",
       "384  https://api.census.gov/data/2018/acs/acs5/cpro...   \n",
       "385  https://api.census.gov/data/2012/cfsarea/geogr...   \n",
       "386  https://api.census.gov/data/2012/cfsexport/geo...   \n",
       "387  https://api.census.gov/data/2018/acs/acs5/subj...   \n",
       "\n",
       "                                       c_variablesLink  \\\n",
       "0    https://api.census.gov/data/1999/nonemp/variab...   \n",
       "1    https://api.census.gov/data/1997/nonemp/variab...   \n",
       "2    https://api.census.gov/data/1986/cbp/variables...   \n",
       "3    https://api.census.gov/data/1997/zbp/variables...   \n",
       "4    https://api.census.gov/data/1987/cbp/variables...   \n",
       "..                                                 ...   \n",
       "383  https://api.census.gov/data/2018/acs/acs5/prof...   \n",
       "384  https://api.census.gov/data/2018/acs/acs5/cpro...   \n",
       "385  https://api.census.gov/data/2012/cfsarea/varia...   \n",
       "386  https://api.census.gov/data/2012/cfsexport/var...   \n",
       "387  https://api.census.gov/data/2018/acs/acs5/subj...   \n",
       "\n",
       "                                        c_examplesLink  \\\n",
       "0    https://api.census.gov/data/1999/nonemp/exampl...   \n",
       "1    https://api.census.gov/data/1997/nonemp/exampl...   \n",
       "2    https://api.census.gov/data/1986/cbp/examples....   \n",
       "3    https://api.census.gov/data/1997/zbp/examples....   \n",
       "4    https://api.census.gov/data/1987/cbp/examples....   \n",
       "..                                                 ...   \n",
       "383  https://api.census.gov/data/2018/acs/acs5/prof...   \n",
       "384  https://api.census.gov/data/2018/acs/acs5/cpro...   \n",
       "385  https://api.census.gov/data/2012/cfsarea/examp...   \n",
       "386  https://api.census.gov/data/2012/cfsexport/exa...   \n",
       "387  https://api.census.gov/data/2018/acs/acs5/subj...   \n",
       "\n",
       "                                          c_groupsLink  \\\n",
       "0    https://api.census.gov/data/1999/nonemp/groups...   \n",
       "1    https://api.census.gov/data/1997/nonemp/groups...   \n",
       "2     https://api.census.gov/data/1986/cbp/groups.json   \n",
       "3     https://api.census.gov/data/1997/zbp/groups.json   \n",
       "4     https://api.census.gov/data/1987/cbp/groups.json   \n",
       "..                                                 ...   \n",
       "383  https://api.census.gov/data/2018/acs/acs5/prof...   \n",
       "384  https://api.census.gov/data/2018/acs/acs5/cpro...   \n",
       "385  https://api.census.gov/data/2012/cfsarea/group...   \n",
       "386  https://api.census.gov/data/2012/cfsexport/gro...   \n",
       "387  https://api.census.gov/data/2018/acs/acs5/subj...   \n",
       "\n",
       "                                          c_valuesLink  \\\n",
       "0    https://api.census.gov/data/1999/nonemp/values...   \n",
       "1    https://api.census.gov/data/1997/nonemp/values...   \n",
       "2     https://api.census.gov/data/1986/cbp/values.json   \n",
       "3     https://api.census.gov/data/1997/zbp/values.json   \n",
       "4     https://api.census.gov/data/1987/cbp/values.json   \n",
       "..                                                 ...   \n",
       "383  https://api.census.gov/data/2018/acs/acs5/prof...   \n",
       "384  https://api.census.gov/data/2018/acs/acs5/cpro...   \n",
       "385  https://api.census.gov/data/2012/cfsarea/value...   \n",
       "386  https://api.census.gov/data/2012/cfsexport/val...   \n",
       "387  https://api.census.gov/data/2018/acs/acs5/subj...   \n",
       "\n",
       "                   c_documentationLink c_isAggregate c_isCube  ...  keyword  \\\n",
       "0     http://www.census.gov/developer/          True     True  ...       []   \n",
       "1     http://www.census.gov/developer/          True     True  ...       []   \n",
       "2     http://www.census.gov/developer/          True      NaN  ...       []   \n",
       "3     http://www.census.gov/developer/          True      NaN  ...       []   \n",
       "4     http://www.census.gov/developer/          True      NaN  ...       []   \n",
       "..                                 ...           ...      ...  ...      ...   \n",
       "383  https://www.census.gov/developer/          True     True  ...       []   \n",
       "384  https://www.census.gov/developer/          True     True  ...       []   \n",
       "385  https://www.census.gov/developer/          True      NaN  ...       []   \n",
       "386  https://www.census.gov/developer/          True      NaN  ...       []   \n",
       "387  https://www.census.gov/developer/          True     True  ...       []   \n",
       "\n",
       "                                               license               modified  \\\n",
       "0    http://creativecommons.org/publicdomain/zero/1...             2017-02-09   \n",
       "1    http://creativecommons.org/publicdomain/zero/1...             2017-02-09   \n",
       "2    http://creativecommons.org/publicdomain/zero/1...             2019-02-13   \n",
       "3    http://creativecommons.org/publicdomain/zero/1...             2017-05-23   \n",
       "4    http://creativecommons.org/publicdomain/zero/1...             2019-02-13   \n",
       "..                                                 ...                    ...   \n",
       "383  https://creativecommons.org/publicdomain/zero/...  2019-10-22 16:22:18.0   \n",
       "384  https://creativecommons.org/publicdomain/zero/...  2019-10-22 14:54:09.0   \n",
       "385  https://creativecommons.org/publicdomain/zero/...  2019-11-18 16:03:01.0   \n",
       "386  https://creativecommons.org/publicdomain/zero/...  2019-11-18 16:03:11.0   \n",
       "387  https://creativecommons.org/publicdomain/zero/...  2019-10-22 15:36:29.0   \n",
       "\n",
       "    programCode                            references        spatial  \\\n",
       "0     [006:007]   [http://www.census.gov/developers/]  United States   \n",
       "1     [006:007]   [http://www.census.gov/developers/]  United States   \n",
       "2     [006:007]   [http://www.census.gov/developers/]  United States   \n",
       "3     [006:007]   [http://www.census.gov/developers/]  United States   \n",
       "4     [006:007]   [http://www.census.gov/developers/]  United States   \n",
       "..          ...                                   ...            ...   \n",
       "383   [006:004]  [https://www.census.gov/developers/]            NaN   \n",
       "384   [006:004]  [https://www.census.gov/developers/]            NaN   \n",
       "385   [006:007]  [https://www.census.gov/developers/]            NaN   \n",
       "386   [006:007]  [https://www.census.gov/developers/]            NaN   \n",
       "387   [006:004]  [https://www.census.gov/developers/]            NaN   \n",
       "\n",
       "         temporal                                          publisher  \\\n",
       "0       1999/1999  {'@type': 'org:Organization', 'name': 'U.S. Ce...   \n",
       "1       1997/1997  {'@type': 'org:Organization', 'name': 'U.S. Ce...   \n",
       "2       1986/1986  {'@type': 'org:Organization', 'name': 'U.S. Ce...   \n",
       "3       1997/1997  {'@type': 'org:Organization', 'name': 'U.S. Ce...   \n",
       "4       1987/1987  {'@type': 'org:Organization', 'name': 'U.S. Ce...   \n",
       "..            ...                                                ...   \n",
       "383  unidentified  {'@type': 'org:Organization', 'name': 'U.S. Ce...   \n",
       "384  unidentified  {'@type': 'org:Organization', 'name': 'U.S. Ce...   \n",
       "385  unidentified  {'@type': 'org:Organization', 'name': 'U.S. Ce...   \n",
       "386  unidentified  {'@type': 'org:Organization', 'name': 'U.S. Ce...   \n",
       "387  unidentified  {'@type': 'org:Organization', 'name': 'U.S. Ce...   \n",
       "\n",
       "                                            c_tagsLink c_isTimeseries  \n",
       "0                                                  NaN            NaN  \n",
       "1                                                  NaN            NaN  \n",
       "2                                                  NaN            NaN  \n",
       "3                                                  NaN            NaN  \n",
       "4                                                  NaN            NaN  \n",
       "..                                                 ...            ...  \n",
       "383                                                NaN            NaN  \n",
       "384                                                NaN            NaN  \n",
       "385                                                NaN            NaN  \n",
       "386                                                NaN            NaN  \n",
       "387  https://api.census.gov/data/2018/acs/acs5/subj...            NaN  \n",
       "\n",
       "[388 rows x 29 columns]"
      ]
     },
     "execution_count": 169,
     "metadata": {},
     "output_type": "execute_result"
    }
   ],
   "source": [
    "web_df"
   ]
  },
  {
   "cell_type": "code",
   "execution_count": null,
   "metadata": {},
   "outputs": [],
   "source": []
  }
 ],
 "metadata": {
  "kernel_info": {
   "name": "python3"
  },
  "kernelspec": {
   "display_name": "Python 3",
   "language": "python",
   "name": "python3"
  },
  "language_info": {
   "codemirror_mode": {
    "name": "ipython",
    "version": 3
   },
   "file_extension": ".py",
   "mimetype": "text/x-python",
   "name": "python",
   "nbconvert_exporter": "python",
   "pygments_lexer": "ipython3",
   "version": "3.7.3"
  },
  "nteract": {
   "version": "0.15.0"
  }
 },
 "nbformat": 4,
 "nbformat_minor": 2
}
